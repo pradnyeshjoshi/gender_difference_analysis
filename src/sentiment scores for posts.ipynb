{
 "cells": [
  {
   "cell_type": "code",
   "execution_count": 21,
   "metadata": {},
   "outputs": [],
   "source": [
    "import pandas as pd\n",
    "import os\n",
    "from glob import glob\n",
    "from nrclex import NRCLex\n",
    "import moralstrength as ms\n",
    "from tqdm import tqdm\n",
    "from sentistrength import PySentiStr\n",
    "from time import time"
   ]
  },
  {
   "cell_type": "code",
   "execution_count": 17,
   "metadata": {},
   "outputs": [],
   "source": [
    "def load_reddit(path):\n",
    "    df = pd.read_csv(path)\n",
    "    df[\"full_text\"] = df[\"title\"].str.cat(df[\"text\"].astype(str), sep=' ').fillna('')\n",
    "    return df"
   ]
  },
  {
   "cell_type": "code",
   "execution_count": 18,
   "metadata": {},
   "outputs": [],
   "source": [
    "def sentiment_ms(df):\n",
    "    df['care'] = 0\n",
    "    df['fairness'] = 0\n",
    "    df['loyalty'] = 0\n",
    "    df['authority'] = 0\n",
    "    df['purity'] = 0\n",
    "    df['non_moral'] = 0\n",
    "    df.reset_index(drop=True, inplace=True)\n",
    "    \n",
    "    for j in tqdm(range(df.shape[0])):\n",
    "\n",
    "        d = ms.string_moral_values(df.loc[j, 'full_text'])\n",
    "        df.loc[j, 'care'] = d['care']\n",
    "        df.loc[j, 'fairness'] = d['fairness']\n",
    "        df.loc[j, 'loyalty'] = d['loyalty']\n",
    "        df.loc[j, 'authority'] = d['authority']\n",
    "        df.loc[j, 'purity'] = d['purity']\n",
    "        df.loc[j, 'non_moral'] = d['non-moral']\n",
    "    return df\n",
    "\n",
    "def sentiment_nrc(df):\n",
    "    df['fear'] = 0\n",
    "    df['anger'] = 0\n",
    "    df['anticip'] = 0\n",
    "    df['trust'] = 0\n",
    "    df['surprise'] = 0\n",
    "    df['positive'] = 0\n",
    "    df['negative'] = 0\n",
    "    df['sadness'] = 0\n",
    "    df['disgust'] = 0\n",
    "    df['joy'] = 0\n",
    "    df['full_text'] = df['full_text'].fillna(\"\")\n",
    "    df.reset_index(drop=True, inplace=True)\n",
    "    \n",
    "    for j in tqdm(range(df.shape[0])):\n",
    "\n",
    "        d = NRCLex(df.loc[j, 'full_text']).affect_frequencies\n",
    "        df.loc[j, 'fear'] = d['fear']\n",
    "        df.loc[j, 'anger'] = d['anger']\n",
    "        df.loc[j, 'anticip'] = d['anticip']\n",
    "        df.loc[j, 'trust'] = d['trust']\n",
    "        df.loc[j, 'surprise'] = d['surprise']\n",
    "        df.loc[j, 'positive'] = d['positive']\n",
    "        df.loc[j, 'negative'] = d['negative']\n",
    "        df.loc[j, 'sadness'] = d['sadness']\n",
    "        df.loc[j, 'disgust'] = d['disgust']\n",
    "        df.loc[j, 'joy'] = d['joy']\n",
    "    return df\n",
    "\n",
    "def sentiment_sentistrength(df):\n",
    "    senti = PySentiStr()\n",
    "    senti.setSentiStrengthPath('/Users/prady/softwares/SentiStrengthCom.jar')\n",
    "    senti.setSentiStrengthLanguageFolderPath('/Users/prady/softwares/SentStrength_Data_Sept2011/')\n",
    "    df[\"full_text\"] = [t if t!=\"\" else \" \" for t in df['full_text']]\n",
    "    result = senti.getSentiment(df[\"full_text\"], score='trinary')\n",
    "    df[\"sentistrength_pos\"] = [r[0] for r in result]\n",
    "    df[\"sentistrength_neg\"] = [r[1] for r in result]\n",
    "    df[\"sentistrength_neutral\"] = [r[2] for r in result]\n",
    "    return df"
   ]
  },
  {
   "cell_type": "code",
   "execution_count": 22,
   "metadata": {},
   "outputs": [
    {
     "name": "stderr",
     "output_type": "stream",
     "text": [
      "  1%|▏         | 13/916 [00:00<00:07, 122.79it/s]"
     ]
    },
    {
     "name": "stdout",
     "output_type": "stream",
     "text": [
      "1 out of 50\n",
      "../../rawdata/Venturecapital/venturecapital_hot.csv\n"
     ]
    },
    {
     "name": "stderr",
     "output_type": "stream",
     "text": [
      "100%|██████████| 916/916 [00:05<00:00, 169.68it/s]\n",
      "100%|██████████| 916/916 [02:20<00:00,  6.51it/s]\n",
      "  2%|▏         | 18/991 [00:00<00:05, 176.35it/s]"
     ]
    },
    {
     "name": "stdout",
     "output_type": "stream",
     "text": [
      "completed in 147.50815391540527\n",
      "2 out of 50\n",
      "../../rawdata/Venturecapital/venturecapital_top.csv\n"
     ]
    },
    {
     "name": "stderr",
     "output_type": "stream",
     "text": [
      "100%|██████████| 991/991 [00:05<00:00, 194.50it/s]\n",
      "100%|██████████| 991/991 [02:39<00:00,  6.21it/s]\n",
      "  2%|▏         | 17/988 [00:00<00:06, 158.99it/s]"
     ]
    },
    {
     "name": "stdout",
     "output_type": "stream",
     "text": [
      "completed in 165.68257689476013\n",
      "3 out of 50\n",
      "../../rawdata/Venturecapital/venturecapital_new.csv\n"
     ]
    },
    {
     "name": "stderr",
     "output_type": "stream",
     "text": [
      "100%|██████████| 988/988 [00:05<00:00, 192.16it/s]\n",
      "100%|██████████| 988/988 [02:36<00:00,  6.31it/s]\n",
      "100%|██████████| 24/24 [00:00<00:00, 145.94it/s]\n",
      "  0%|          | 0/24 [00:00<?, ?it/s]"
     ]
    },
    {
     "name": "stdout",
     "output_type": "stream",
     "text": [
      "completed in 162.76311802864075\n",
      "4 out of 50\n",
      "../../rawdata/Venturecapital/venturecapital_rising.csv\n"
     ]
    },
    {
     "name": "stderr",
     "output_type": "stream",
     "text": [
      "100%|██████████| 24/24 [00:04<00:00,  5.62it/s]\n",
      "  2%|▏         | 16/924 [00:00<00:05, 156.71it/s]"
     ]
    },
    {
     "name": "stdout",
     "output_type": "stream",
     "text": [
      "completed in 4.77788519859314\n",
      "5 out of 50\n",
      "../../rawdata/Venturecapital/venturecapital_controversial.csv\n"
     ]
    },
    {
     "name": "stderr",
     "output_type": "stream",
     "text": [
      "100%|██████████| 924/924 [00:04<00:00, 186.93it/s]\n",
      "100%|██████████| 924/924 [02:34<00:00,  5.99it/s]\n",
      "  1%|▏         | 13/992 [00:00<00:07, 126.19it/s]"
     ]
    },
    {
     "name": "stdout",
     "output_type": "stream",
     "text": [
      "completed in 160.34686303138733\n",
      "6 out of 50\n",
      "../../rawdata/Startups/startups_controversial.csv\n"
     ]
    },
    {
     "name": "stderr",
     "output_type": "stream",
     "text": [
      "100%|██████████| 992/992 [00:07<00:00, 126.42it/s]\n",
      " 15%|█▍        | 144/992 [00:46<03:36,  3.91it/s]/Users/prady/.local/lib/python3.7/site-packages/sklearn/linear_model/base.py:297: RuntimeWarning: overflow encountered in exp\n",
      "  np.exp(prob, prob)\n",
      "100%|██████████| 992/992 [05:39<00:00,  2.93it/s]\n",
      "100%|██████████| 16/16 [00:00<00:00, 105.39it/s]\n",
      "  0%|          | 0/16 [00:00<?, ?it/s]"
     ]
    },
    {
     "name": "stdout",
     "output_type": "stream",
     "text": [
      "completed in 348.46965980529785\n",
      "7 out of 50\n",
      "../../rawdata/Startups/startups_rising.csv\n"
     ]
    },
    {
     "name": "stderr",
     "output_type": "stream",
     "text": [
      "100%|██████████| 16/16 [00:05<00:00,  2.70it/s]\n",
      "  1%|▏         | 6/438 [00:00<00:07, 57.05it/s]"
     ]
    },
    {
     "name": "stdout",
     "output_type": "stream",
     "text": [
      "completed in 6.4671690464019775\n",
      "8 out of 50\n",
      "../../rawdata/Startups/startups_hot.csv\n"
     ]
    },
    {
     "name": "stderr",
     "output_type": "stream",
     "text": [
      "100%|██████████| 438/438 [00:03<00:00, 113.86it/s]\n",
      " 34%|███▍      | 149/438 [00:59<02:28,  1.95it/s]/Users/prady/.local/lib/python3.7/site-packages/sklearn/linear_model/base.py:297: RuntimeWarning: overflow encountered in exp\n",
      "  np.exp(prob, prob)\n",
      " 66%|██████▌   | 289/438 [02:14<00:40,  3.64it/s]/Users/prady/.local/lib/python3.7/site-packages/sklearn/linear_model/base.py:297: RuntimeWarning: overflow encountered in exp\n",
      "  np.exp(prob, prob)\n",
      " 90%|█████████ | 395/438 [03:03<00:55,  1.28s/it]/Users/prady/.local/lib/python3.7/site-packages/sklearn/linear_model/base.py:297: RuntimeWarning: overflow encountered in exp\n",
      "  np.exp(prob, prob)\n",
      " 94%|█████████▍| 411/438 [03:15<00:11,  2.36it/s]/Users/prady/.local/lib/python3.7/site-packages/sklearn/linear_model/base.py:297: RuntimeWarning: overflow encountered in exp\n",
      "  np.exp(prob, prob)\n",
      "100%|██████████| 438/438 [03:33<00:00,  2.05it/s]\n",
      "  1%|          | 7/872 [00:00<00:14, 61.05it/s]"
     ]
    },
    {
     "name": "stdout",
     "output_type": "stream",
     "text": [
      "completed in 218.8126471042633\n",
      "9 out of 50\n",
      "../../rawdata/Startups/startups_new.csv\n"
     ]
    },
    {
     "name": "stderr",
     "output_type": "stream",
     "text": [
      "100%|██████████| 872/872 [00:07<00:00, 122.42it/s]\n",
      " 33%|███▎      | 289/872 [02:00<08:25,  1.15it/s]/Users/prady/.local/lib/python3.7/site-packages/sklearn/linear_model/base.py:297: RuntimeWarning: overflow encountered in exp\n",
      "  np.exp(prob, prob)\n",
      " 68%|██████▊   | 590/872 [04:16<01:07,  4.18it/s]/Users/prady/.local/lib/python3.7/site-packages/sklearn/linear_model/base.py:297: RuntimeWarning: overflow encountered in exp\n",
      "  np.exp(prob, prob)\n",
      " 91%|█████████ | 793/872 [06:03<01:32,  1.17s/it]/Users/prady/.local/lib/python3.7/site-packages/sklearn/linear_model/base.py:297: RuntimeWarning: overflow encountered in exp\n",
      "  np.exp(prob, prob)\n",
      " 94%|█████████▍| 818/872 [06:24<00:30,  1.75it/s]/Users/prady/.local/lib/python3.7/site-packages/sklearn/linear_model/base.py:297: RuntimeWarning: overflow encountered in exp\n",
      "  np.exp(prob, prob)\n",
      "100%|██████████| 872/872 [06:58<00:00,  2.08it/s]\n",
      "  0%|          | 0/999 [00:00<?, ?it/s]"
     ]
    },
    {
     "name": "stdout",
     "output_type": "stream",
     "text": [
      "completed in 427.7185649871826\n",
      "10 out of 50\n",
      "../../rawdata/Startups/startups_top.csv\n"
     ]
    },
    {
     "name": "stderr",
     "output_type": "stream",
     "text": [
      "100%|██████████| 999/999 [00:14<00:00, 70.74it/s]\n",
      "  4%|▎         | 36/999 [00:39<14:07,  1.14it/s]/Users/prady/.local/lib/python3.7/site-packages/sklearn/linear_model/base.py:297: RuntimeWarning: overflow encountered in exp\n",
      "  np.exp(prob, prob)\n",
      "  6%|▋         | 63/999 [01:05<14:49,  1.05it/s]/Users/prady/.local/lib/python3.7/site-packages/sklearn/linear_model/base.py:297: RuntimeWarning: overflow encountered in exp\n",
      "  np.exp(prob, prob)\n",
      " 15%|█▍        | 148/999 [02:42<11:43,  1.21it/s]/Users/prady/.local/lib/python3.7/site-packages/sklearn/linear_model/base.py:297: RuntimeWarning: overflow encountered in exp\n",
      "  np.exp(prob, prob)\n",
      " 19%|█▊        | 187/999 [03:28<16:23,  1.21s/it]/Users/prady/.local/lib/python3.7/site-packages/sklearn/linear_model/base.py:297: RuntimeWarning: overflow encountered in exp\n",
      "  np.exp(prob, prob)\n",
      " 19%|█▉        | 188/999 [03:35<39:49,  2.95s/it]/Users/prady/.local/lib/python3.7/site-packages/sklearn/linear_model/base.py:297: RuntimeWarning: overflow encountered in exp\n",
      "  np.exp(prob, prob)\n",
      " 26%|██▌       | 261/999 [04:44<10:14,  1.20it/s]  /Users/prady/.local/lib/python3.7/site-packages/sklearn/linear_model/base.py:297: RuntimeWarning: overflow encountered in exp\n",
      "  np.exp(prob, prob)\n",
      " 27%|██▋       | 270/999 [04:58<13:00,  1.07s/it]/Users/prady/.local/lib/python3.7/site-packages/sklearn/linear_model/base.py:297: RuntimeWarning: overflow encountered in exp\n",
      "  np.exp(prob, prob)\n",
      " 28%|██▊       | 281/999 [05:09<05:34,  2.15it/s]/Users/prady/.local/lib/python3.7/site-packages/sklearn/linear_model/base.py:297: RuntimeWarning: overflow encountered in exp\n",
      "  np.exp(prob, prob)\n",
      " 30%|███       | 300/999 [05:25<05:05,  2.29it/s]/Users/prady/.local/lib/python3.7/site-packages/sklearn/linear_model/base.py:297: RuntimeWarning: overflow encountered in exp\n",
      "  np.exp(prob, prob)\n",
      " 30%|███       | 304/999 [05:31<09:28,  1.22it/s]/Users/prady/.local/lib/python3.7/site-packages/sklearn/linear_model/base.py:297: RuntimeWarning: overflow encountered in exp\n",
      "  np.exp(prob, prob)\n",
      " 32%|███▏      | 319/999 [05:50<14:15,  1.26s/it]/Users/prady/.local/lib/python3.7/site-packages/sklearn/linear_model/base.py:297: RuntimeWarning: overflow encountered in exp\n",
      "  np.exp(prob, prob)\n",
      " 32%|███▏      | 320/999 [05:58<36:49,  3.25s/it]/Users/prady/.local/lib/python3.7/site-packages/sklearn/linear_model/base.py:297: RuntimeWarning: overflow encountered in exp\n",
      "  np.exp(prob, prob)\n",
      " 32%|███▏      | 322/999 [06:06<37:38,  3.34s/it]/Users/prady/.local/lib/python3.7/site-packages/sklearn/linear_model/base.py:297: RuntimeWarning: overflow encountered in exp\n",
      "  np.exp(prob, prob)\n",
      " 36%|███▌      | 358/999 [06:38<05:34,  1.92it/s]/Users/prady/.local/lib/python3.7/site-packages/sklearn/linear_model/base.py:297: RuntimeWarning: overflow encountered in exp\n",
      "  np.exp(prob, prob)\n",
      " 46%|████▌     | 456/999 [08:30<07:14,  1.25it/s]/Users/prady/.local/lib/python3.7/site-packages/sklearn/linear_model/base.py:297: RuntimeWarning: overflow encountered in exp\n",
      "  np.exp(prob, prob)\n",
      " 54%|█████▍    | 543/999 [09:56<06:56,  1.09it/s]/Users/prady/.local/lib/python3.7/site-packages/sklearn/linear_model/base.py:297: RuntimeWarning: overflow encountered in exp\n",
      "  np.exp(prob, prob)\n",
      " 57%|█████▋    | 573/999 [10:23<07:01,  1.01it/s]/Users/prady/.local/lib/python3.7/site-packages/sklearn/linear_model/base.py:297: RuntimeWarning: overflow encountered in exp\n",
      "  np.exp(prob, prob)\n",
      " 61%|██████▏   | 612/999 [10:57<05:35,  1.15it/s]/Users/prady/.local/lib/python3.7/site-packages/sklearn/linear_model/base.py:297: RuntimeWarning: overflow encountered in exp\n",
      "  np.exp(prob, prob)\n",
      " 62%|██████▏   | 615/999 [11:03<08:13,  1.29s/it]/Users/prady/.local/lib/python3.7/site-packages/sklearn/linear_model/base.py:297: RuntimeWarning: overflow encountered in exp\n",
      "  np.exp(prob, prob)\n",
      " 64%|██████▍   | 637/999 [11:30<06:27,  1.07s/it]/Users/prady/.local/lib/python3.7/site-packages/sklearn/linear_model/base.py:297: RuntimeWarning: overflow encountered in exp\n",
      "  np.exp(prob, prob)\n",
      " 65%|██████▌   | 651/999 [11:49<04:39,  1.24it/s]/Users/prady/.local/lib/python3.7/site-packages/sklearn/linear_model/base.py:297: RuntimeWarning: overflow encountered in exp\n",
      "  np.exp(prob, prob)\n",
      " 72%|███████▏  | 718/999 [13:00<03:30,  1.34it/s]/Users/prady/.local/lib/python3.7/site-packages/sklearn/linear_model/base.py:297: RuntimeWarning: overflow encountered in exp\n",
      "  np.exp(prob, prob)\n",
      " 79%|███████▉  | 789/999 [14:01<04:04,  1.16s/it]/Users/prady/.local/lib/python3.7/site-packages/sklearn/linear_model/base.py:297: RuntimeWarning: overflow encountered in exp\n",
      "  np.exp(prob, prob)\n",
      " 84%|████████▍ | 842/999 [14:57<02:18,  1.14it/s]/Users/prady/.local/lib/python3.7/site-packages/sklearn/linear_model/base.py:297: RuntimeWarning: overflow encountered in exp\n",
      "  np.exp(prob, prob)\n",
      " 93%|█████████▎| 932/999 [16:06<00:40,  1.64it/s]/Users/prady/.local/lib/python3.7/site-packages/sklearn/linear_model/base.py:297: RuntimeWarning: overflow encountered in exp\n",
      "  np.exp(prob, prob)\n",
      " 94%|█████████▍| 938/999 [16:15<00:52,  1.16it/s]/Users/prady/.local/lib/python3.7/site-packages/sklearn/linear_model/base.py:297: RuntimeWarning: overflow encountered in exp\n",
      "  np.exp(prob, prob)\n",
      " 95%|█████████▍| 948/999 [16:28<00:27,  1.83it/s]/Users/prady/.local/lib/python3.7/site-packages/sklearn/linear_model/base.py:297: RuntimeWarning: overflow encountered in exp\n",
      "  np.exp(prob, prob)\n",
      "100%|██████████| 999/999 [17:25<00:00,  1.05s/it]\n",
      "100%|██████████| 23/23 [00:00<00:00, 182.41it/s]\n",
      "  0%|          | 0/23 [00:00<?, ?it/s]"
     ]
    },
    {
     "name": "stdout",
     "output_type": "stream",
     "text": [
      "completed in 1063.315551996231\n",
      "11 out of 50\n",
      "../../rawdata/Entrepreneurship/entrepreneurship_rising.csv\n"
     ]
    },
    {
     "name": "stderr",
     "output_type": "stream",
     "text": [
      "100%|██████████| 23/23 [00:02<00:00,  8.71it/s]\n",
      "  2%|▏         | 18/934 [00:00<00:05, 175.54it/s]"
     ]
    },
    {
     "name": "stdout",
     "output_type": "stream",
     "text": [
      "completed in 3.0897998809814453\n",
      "12 out of 50\n",
      "../../rawdata/Entrepreneurship/entrepreneurship_hot.csv\n"
     ]
    },
    {
     "name": "stderr",
     "output_type": "stream",
     "text": [
      "100%|██████████| 934/934 [00:05<00:00, 174.03it/s]\n",
      " 77%|███████▋  | 721/934 [02:20<01:01,  3.45it/s]/Users/prady/.local/lib/python3.7/site-packages/sklearn/linear_model/base.py:297: RuntimeWarning: overflow encountered in exp\n",
      "  np.exp(prob, prob)\n",
      "100%|██████████| 934/934 [03:02<00:00,  5.11it/s]\n",
      "  2%|▏         | 20/998 [00:00<00:04, 195.67it/s]"
     ]
    },
    {
     "name": "stdout",
     "output_type": "stream",
     "text": [
      "completed in 189.23744583129883\n",
      "13 out of 50\n",
      "../../rawdata/Entrepreneurship/entrepreneurship_top.csv\n"
     ]
    },
    {
     "name": "stderr",
     "output_type": "stream",
     "text": [
      "100%|██████████| 998/998 [00:09<00:00, 105.45it/s]\n",
      " 14%|█▎        | 135/998 [00:42<04:01,  3.57it/s]/Users/prady/.local/lib/python3.7/site-packages/sklearn/linear_model/base.py:297: RuntimeWarning: overflow encountered in exp\n",
      "  np.exp(prob, prob)\n",
      "100%|██████████| 998/998 [05:24<00:00,  3.08it/s]\n",
      "  2%|▏         | 17/1000 [00:00<00:05, 165.27it/s]"
     ]
    },
    {
     "name": "stdout",
     "output_type": "stream",
     "text": [
      "completed in 335.22205424308777\n",
      "14 out of 50\n",
      "../../rawdata/Entrepreneurship/entrepreneurship_controversial.csv\n"
     ]
    },
    {
     "name": "stderr",
     "output_type": "stream",
     "text": [
      "100%|██████████| 1000/1000 [00:06<00:00, 161.05it/s]\n",
      " 55%|█████▌    | 551/1000 [01:33<01:00,  7.42it/s]/Users/prady/.local/lib/python3.7/site-packages/sklearn/linear_model/base.py:297: RuntimeWarning: overflow encountered in exp\n",
      "  np.exp(prob, prob)\n",
      "100%|██████████| 1000/1000 [03:18<00:00,  5.04it/s]\n",
      "  2%|▏         | 19/855 [00:00<00:04, 179.78it/s]"
     ]
    },
    {
     "name": "stdout",
     "output_type": "stream",
     "text": [
      "completed in 205.6031517982483\n",
      "15 out of 50\n",
      "../../rawdata/Entrepreneurship/entrepreneurship_new.csv\n"
     ]
    },
    {
     "name": "stderr",
     "output_type": "stream",
     "text": [
      "100%|██████████| 855/855 [00:04<00:00, 188.17it/s]\n",
      " 77%|███████▋  | 656/855 [02:14<00:50,  3.97it/s]/Users/prady/.local/lib/python3.7/site-packages/sklearn/linear_model/base.py:297: RuntimeWarning: overflow encountered in exp\n",
      "  np.exp(prob, prob)\n",
      "100%|██████████| 855/855 [02:56<00:00,  4.84it/s]\n",
      "  0%|          | 0/982 [00:00<?, ?it/s]"
     ]
    },
    {
     "name": "stdout",
     "output_type": "stream",
     "text": [
      "completed in 182.32005190849304\n",
      "16 out of 50\n",
      "../../rawdata/EntrepreneurRideAlong/EntrepreneurRideAlong_controversial.csv\n"
     ]
    },
    {
     "name": "stderr",
     "output_type": "stream",
     "text": [
      "100%|██████████| 982/982 [00:12<00:00, 81.13it/s] \n",
      " 11%|█▏        | 111/982 [00:57<18:11,  1.25s/it]/Users/prady/.local/lib/python3.7/site-packages/sklearn/linear_model/base.py:297: RuntimeWarning: overflow encountered in exp\n",
      "  np.exp(prob, prob)\n",
      " 15%|█▍        | 145/982 [01:17<02:51,  4.88it/s]/Users/prady/.local/lib/python3.7/site-packages/sklearn/linear_model/base.py:297: RuntimeWarning: overflow encountered in exp\n",
      "  np.exp(prob, prob)\n",
      " 15%|█▍        | 146/982 [01:22<22:16,  1.60s/it]/Users/prady/.local/lib/python3.7/site-packages/sklearn/linear_model/base.py:297: RuntimeWarning: overflow encountered in exp\n",
      "  np.exp(prob, prob)\n",
      " 17%|█▋        | 171/982 [01:42<08:04,  1.67it/s]/Users/prady/.local/lib/python3.7/site-packages/sklearn/linear_model/base.py:297: RuntimeWarning: overflow encountered in exp\n",
      "  np.exp(prob, prob)\n",
      " 18%|█▊        | 177/982 [01:53<20:39,  1.54s/it]/Users/prady/.local/lib/python3.7/site-packages/sklearn/linear_model/base.py:297: RuntimeWarning: overflow encountered in exp\n",
      "  np.exp(prob, prob)\n",
      " 22%|██▏       | 212/982 [02:28<09:35,  1.34it/s]/Users/prady/.local/lib/python3.7/site-packages/sklearn/linear_model/base.py:297: RuntimeWarning: overflow encountered in exp\n",
      "  np.exp(prob, prob)\n",
      " 22%|██▏       | 220/982 [02:36<06:14,  2.04it/s]/Users/prady/.local/lib/python3.7/site-packages/sklearn/linear_model/base.py:297: RuntimeWarning: overflow encountered in exp\n",
      "  np.exp(prob, prob)\n",
      " 24%|██▍       | 235/982 [02:51<04:21,  2.86it/s]/Users/prady/.local/lib/python3.7/site-packages/sklearn/linear_model/base.py:297: RuntimeWarning: overflow encountered in exp\n",
      "  np.exp(prob, prob)\n",
      " 26%|██▌       | 252/982 [03:08<05:03,  2.41it/s]/Users/prady/.local/lib/python3.7/site-packages/sklearn/linear_model/base.py:297: RuntimeWarning: overflow encountered in exp\n",
      "  np.exp(prob, prob)\n",
      " 29%|██▊       | 280/982 [03:24<02:37,  4.47it/s]/Users/prady/.local/lib/python3.7/site-packages/sklearn/linear_model/base.py:297: RuntimeWarning: overflow encountered in exp\n",
      "  np.exp(prob, prob)\n",
      " 31%|███       | 300/982 [03:55<04:45,  2.39it/s]/Users/prady/.local/lib/python3.7/site-packages/sklearn/linear_model/base.py:297: RuntimeWarning: overflow encountered in exp\n",
      "  np.exp(prob, prob)\n",
      " 33%|███▎      | 322/982 [04:17<04:10,  2.63it/s]/Users/prady/.local/lib/python3.7/site-packages/sklearn/linear_model/base.py:297: RuntimeWarning: overflow encountered in exp\n",
      "  np.exp(prob, prob)\n",
      " 34%|███▎      | 330/982 [04:31<15:11,  1.40s/it]/Users/prady/.local/lib/python3.7/site-packages/sklearn/linear_model/base.py:297: RuntimeWarning: overflow encountered in exp\n",
      "  np.exp(prob, prob)\n",
      " 34%|███▍      | 336/982 [04:40<08:59,  1.20it/s]/Users/prady/.local/lib/python3.7/site-packages/sklearn/linear_model/base.py:297: RuntimeWarning: overflow encountered in exp\n",
      "  np.exp(prob, prob)\n",
      " 36%|███▌      | 352/982 [04:54<04:02,  2.60it/s]/Users/prady/.local/lib/python3.7/site-packages/sklearn/linear_model/base.py:297: RuntimeWarning: overflow encountered in exp\n",
      "  np.exp(prob, prob)\n",
      " 43%|████▎     | 422/982 [05:55<06:26,  1.45it/s]/Users/prady/.local/lib/python3.7/site-packages/sklearn/linear_model/base.py:297: RuntimeWarning: overflow encountered in exp\n",
      "  np.exp(prob, prob)\n",
      " 47%|████▋     | 459/982 [06:21<04:16,  2.04it/s]/Users/prady/.local/lib/python3.7/site-packages/sklearn/linear_model/base.py:297: RuntimeWarning: overflow encountered in exp\n",
      "  np.exp(prob, prob)\n",
      " 52%|█████▏    | 511/982 [07:10<11:21,  1.45s/it]/Users/prady/.local/lib/python3.7/site-packages/sklearn/linear_model/base.py:297: RuntimeWarning: overflow encountered in exp\n",
      "  np.exp(prob, prob)\n",
      " 58%|█████▊    | 567/982 [07:44<02:29,  2.79it/s]/Users/prady/.local/lib/python3.7/site-packages/sklearn/linear_model/base.py:297: RuntimeWarning: overflow encountered in exp\n",
      "  np.exp(prob, prob)\n",
      " 58%|█████▊    | 572/982 [07:49<04:56,  1.38it/s]/Users/prady/.local/lib/python3.7/site-packages/sklearn/linear_model/base.py:297: RuntimeWarning: overflow encountered in exp\n",
      "  np.exp(prob, prob)\n",
      " 59%|█████▊    | 575/982 [08:02<11:23,  1.68s/it]/Users/prady/.local/lib/python3.7/site-packages/sklearn/linear_model/base.py:297: RuntimeWarning: overflow encountered in exp\n",
      "  np.exp(prob, prob)\n",
      " 63%|██████▎   | 614/982 [08:34<03:49,  1.61it/s]/Users/prady/.local/lib/python3.7/site-packages/sklearn/linear_model/base.py:297: RuntimeWarning: overflow encountered in exp\n",
      "  np.exp(prob, prob)\n",
      " 63%|██████▎   | 615/982 [08:52<35:32,  5.81s/it]/Users/prady/.local/lib/python3.7/site-packages/sklearn/linear_model/base.py:297: RuntimeWarning: overflow encountered in exp\n",
      "  np.exp(prob, prob)\n",
      " 63%|██████▎   | 617/982 [09:00<27:35,  4.53s/it]/Users/prady/.local/lib/python3.7/site-packages/sklearn/linear_model/base.py:297: RuntimeWarning: overflow encountered in exp\n",
      "  np.exp(prob, prob)\n",
      " 65%|██████▌   | 639/982 [09:27<07:41,  1.34s/it]/Users/prady/.local/lib/python3.7/site-packages/sklearn/linear_model/base.py:297: RuntimeWarning: overflow encountered in exp\n",
      "  np.exp(prob, prob)\n",
      " 65%|██████▌   | 640/982 [09:41<29:20,  5.15s/it]/Users/prady/.local/lib/python3.7/site-packages/sklearn/linear_model/base.py:297: RuntimeWarning: overflow encountered in exp\n",
      "  np.exp(prob, prob)\n",
      " 66%|██████▋   | 652/982 [09:53<03:28,  1.58it/s]/Users/prady/.local/lib/python3.7/site-packages/sklearn/linear_model/base.py:297: RuntimeWarning: overflow encountered in exp\n",
      "  np.exp(prob, prob)\n",
      " 69%|██████▉   | 677/982 [10:20<05:41,  1.12s/it]/Users/prady/.local/lib/python3.7/site-packages/sklearn/linear_model/base.py:297: RuntimeWarning: overflow encountered in exp\n",
      "  np.exp(prob, prob)\n",
      " 70%|███████   | 688/982 [10:45<03:53,  1.26it/s]/Users/prady/.local/lib/python3.7/site-packages/sklearn/linear_model/base.py:297: RuntimeWarning: overflow encountered in exp\n",
      "  np.exp(prob, prob)\n",
      " 71%|███████   | 697/982 [10:59<03:09,  1.50it/s]/Users/prady/.local/lib/python3.7/site-packages/sklearn/linear_model/base.py:297: RuntimeWarning: overflow encountered in exp\n",
      "  np.exp(prob, prob)\n",
      " 72%|███████▏  | 706/982 [11:09<02:45,  1.67it/s]/Users/prady/.local/lib/python3.7/site-packages/sklearn/linear_model/base.py:297: RuntimeWarning: overflow encountered in exp\n",
      "  np.exp(prob, prob)\n",
      " 77%|███████▋  | 760/982 [11:40<01:14,  2.99it/s]/Users/prady/.local/lib/python3.7/site-packages/sklearn/linear_model/base.py:297: RuntimeWarning: overflow encountered in exp\n",
      "  np.exp(prob, prob)\n",
      " 81%|████████  | 791/982 [12:13<01:11,  2.68it/s]/Users/prady/.local/lib/python3.7/site-packages/sklearn/linear_model/base.py:297: RuntimeWarning: overflow encountered in exp\n",
      "  np.exp(prob, prob)\n",
      " 82%|████████▏ | 806/982 [12:25<01:11,  2.47it/s]/Users/prady/.local/lib/python3.7/site-packages/sklearn/linear_model/base.py:297: RuntimeWarning: overflow encountered in exp\n",
      "  np.exp(prob, prob)\n",
      " 84%|████████▍ | 829/982 [12:48<01:15,  2.03it/s]/Users/prady/.local/lib/python3.7/site-packages/sklearn/linear_model/base.py:297: RuntimeWarning: overflow encountered in exp\n",
      "  np.exp(prob, prob)\n",
      " 85%|████████▌ | 835/982 [12:56<01:35,  1.54it/s]/Users/prady/.local/lib/python3.7/site-packages/sklearn/linear_model/base.py:297: RuntimeWarning: overflow encountered in exp\n",
      "  np.exp(prob, prob)\n",
      " 86%|████████▋ | 848/982 [13:12<01:30,  1.48it/s]/Users/prady/.local/lib/python3.7/site-packages/sklearn/linear_model/base.py:297: RuntimeWarning: overflow encountered in exp\n",
      "  np.exp(prob, prob)\n",
      " 88%|████████▊ | 866/982 [13:29<01:04,  1.80it/s]/Users/prady/.local/lib/python3.7/site-packages/sklearn/linear_model/base.py:297: RuntimeWarning: overflow encountered in exp\n",
      "  np.exp(prob, prob)\n",
      " 90%|████████▉ | 882/982 [13:43<00:28,  3.51it/s]/Users/prady/.local/lib/python3.7/site-packages/sklearn/linear_model/base.py:297: RuntimeWarning: overflow encountered in exp\n",
      "  np.exp(prob, prob)\n",
      " 91%|█████████▏| 898/982 [13:58<00:31,  2.69it/s]/Users/prady/.local/lib/python3.7/site-packages/sklearn/linear_model/base.py:297: RuntimeWarning: overflow encountered in exp\n",
      "  np.exp(prob, prob)\n",
      " 94%|█████████▎| 919/982 [14:17<01:31,  1.46s/it]/Users/prady/.local/lib/python3.7/site-packages/sklearn/linear_model/base.py:297: RuntimeWarning: overflow encountered in exp\n",
      "  np.exp(prob, prob)\n",
      "100%|██████████| 982/982 [15:03<00:00,  1.09it/s]\n",
      "  0%|          | 0/952 [00:00<?, ?it/s]"
     ]
    },
    {
     "name": "stdout",
     "output_type": "stream",
     "text": [
      "completed in 919.2850480079651\n",
      "17 out of 50\n",
      "../../rawdata/EntrepreneurRideAlong/EntrepreneurRideAlong_hot.csv\n"
     ]
    },
    {
     "name": "stderr",
     "output_type": "stream",
     "text": [
      "100%|██████████| 952/952 [00:21<00:00, 44.73it/s]\n",
      "  3%|▎         | 33/952 [00:40<29:11,  1.91s/it]/Users/prady/.local/lib/python3.7/site-packages/sklearn/linear_model/base.py:297: RuntimeWarning: overflow encountered in exp\n",
      "  np.exp(prob, prob)\n",
      "  7%|▋         | 67/952 [01:17<10:22,  1.42it/s]/Users/prady/.local/lib/python3.7/site-packages/sklearn/linear_model/base.py:297: RuntimeWarning: overflow encountered in exp\n",
      "  np.exp(prob, prob)\n",
      "  9%|▉         | 89/952 [01:45<09:10,  1.57it/s]/Users/prady/.local/lib/python3.7/site-packages/sklearn/linear_model/base.py:297: RuntimeWarning: overflow encountered in exp\n",
      "  np.exp(prob, prob)\n",
      " 10%|█         | 98/952 [01:58<10:26,  1.36it/s]/Users/prady/.local/lib/python3.7/site-packages/sklearn/linear_model/base.py:297: RuntimeWarning: overflow encountered in exp\n",
      "  np.exp(prob, prob)\n",
      " 13%|█▎        | 122/952 [02:26<18:29,  1.34s/it]/Users/prady/.local/lib/python3.7/site-packages/sklearn/linear_model/base.py:297: RuntimeWarning: overflow encountered in exp\n",
      "  np.exp(prob, prob)\n",
      " 13%|█▎        | 125/952 [02:33<21:47,  1.58s/it]/Users/prady/.local/lib/python3.7/site-packages/sklearn/linear_model/base.py:297: RuntimeWarning: overflow encountered in exp\n",
      "  np.exp(prob, prob)\n",
      " 16%|█▌        | 148/952 [02:53<09:51,  1.36it/s]/Users/prady/.local/lib/python3.7/site-packages/sklearn/linear_model/base.py:297: RuntimeWarning: overflow encountered in exp\n",
      "  np.exp(prob, prob)\n",
      " 16%|█▌        | 149/952 [03:00<35:25,  2.65s/it]/Users/prady/.local/lib/python3.7/site-packages/sklearn/linear_model/base.py:297: RuntimeWarning: overflow encountered in exp\n",
      "  np.exp(prob, prob)\n",
      " 16%|█▋        | 155/952 [03:07<11:19,  1.17it/s]/Users/prady/.local/lib/python3.7/site-packages/sklearn/linear_model/base.py:297: RuntimeWarning: overflow encountered in exp\n",
      "  np.exp(prob, prob)\n",
      " 17%|█▋        | 160/952 [03:18<22:40,  1.72s/it]/Users/prady/.local/lib/python3.7/site-packages/sklearn/linear_model/base.py:297: RuntimeWarning: overflow encountered in exp\n",
      "  np.exp(prob, prob)\n",
      " 18%|█▊        | 172/952 [03:33<16:43,  1.29s/it]/Users/prady/.local/lib/python3.7/site-packages/sklearn/linear_model/base.py:297: RuntimeWarning: overflow encountered in exp\n",
      "  np.exp(prob, prob)\n",
      " 18%|█▊        | 175/952 [03:44<29:25,  2.27s/it]/Users/prady/.local/lib/python3.7/site-packages/sklearn/linear_model/base.py:297: RuntimeWarning: overflow encountered in exp\n",
      "  np.exp(prob, prob)\n",
      " 19%|█▉        | 182/952 [03:53<09:20,  1.37it/s]/Users/prady/.local/lib/python3.7/site-packages/sklearn/linear_model/base.py:297: RuntimeWarning: overflow encountered in exp\n",
      "  np.exp(prob, prob)\n",
      " 20%|█▉        | 186/952 [04:03<18:45,  1.47s/it]/Users/prady/.local/lib/python3.7/site-packages/sklearn/linear_model/base.py:297: RuntimeWarning: overflow encountered in exp\n",
      "  np.exp(prob, prob)\n",
      " 24%|██▍       | 229/952 [04:53<19:38,  1.63s/it]/Users/prady/.local/lib/python3.7/site-packages/sklearn/linear_model/base.py:297: RuntimeWarning: overflow encountered in exp\n",
      "  np.exp(prob, prob)\n",
      " 24%|██▍       | 230/952 [04:58<29:51,  2.48s/it]/Users/prady/.local/lib/python3.7/site-packages/sklearn/linear_model/base.py:297: RuntimeWarning: overflow encountered in exp\n",
      "  np.exp(prob, prob)\n",
      " 28%|██▊       | 264/952 [05:22<05:58,  1.92it/s]/Users/prady/.local/lib/python3.7/site-packages/sklearn/linear_model/base.py:297: RuntimeWarning: overflow encountered in exp\n",
      "  np.exp(prob, prob)\n",
      " 28%|██▊       | 267/952 [05:29<14:53,  1.30s/it]/Users/prady/.local/lib/python3.7/site-packages/sklearn/linear_model/base.py:297: RuntimeWarning: overflow encountered in exp\n",
      "  np.exp(prob, prob)\n",
      " 30%|███       | 288/952 [05:58<08:07,  1.36it/s]/Users/prady/.local/lib/python3.7/site-packages/sklearn/linear_model/base.py:297: RuntimeWarning: overflow encountered in exp\n",
      "  np.exp(prob, prob)\n",
      " 31%|███       | 292/952 [06:04<09:50,  1.12it/s]/Users/prady/.local/lib/python3.7/site-packages/sklearn/linear_model/base.py:297: RuntimeWarning: overflow encountered in exp\n",
      "  np.exp(prob, prob)\n",
      " 31%|███       | 293/952 [06:11<30:14,  2.75s/it]/Users/prady/.local/lib/python3.7/site-packages/sklearn/linear_model/base.py:297: RuntimeWarning: overflow encountered in exp\n",
      "  np.exp(prob, prob)\n",
      " 34%|███▎      | 319/952 [06:31<11:22,  1.08s/it]/Users/prady/.local/lib/python3.7/site-packages/sklearn/linear_model/base.py:297: RuntimeWarning: overflow encountered in exp\n",
      "  np.exp(prob, prob)\n",
      " 35%|███▍      | 330/952 [06:48<06:15,  1.66it/s]/Users/prady/.local/lib/python3.7/site-packages/sklearn/linear_model/base.py:297: RuntimeWarning: overflow encountered in exp\n",
      "  np.exp(prob, prob)\n",
      " 37%|███▋      | 355/952 [07:09<02:36,  3.82it/s]/Users/prady/.local/lib/python3.7/site-packages/sklearn/linear_model/base.py:297: RuntimeWarning: overflow encountered in exp\n",
      "  np.exp(prob, prob)\n",
      " 41%|████      | 390/952 [07:37<06:19,  1.48it/s]/Users/prady/.local/lib/python3.7/site-packages/sklearn/linear_model/base.py:297: RuntimeWarning: overflow encountered in exp\n",
      "  np.exp(prob, prob)\n",
      " 42%|████▏     | 400/952 [07:48<04:14,  2.17it/s]/Users/prady/.local/lib/python3.7/site-packages/sklearn/linear_model/base.py:297: RuntimeWarning: overflow encountered in exp\n",
      "  np.exp(prob, prob)\n",
      " 44%|████▍     | 421/952 [08:03<04:12,  2.11it/s]/Users/prady/.local/lib/python3.7/site-packages/sklearn/linear_model/base.py:297: RuntimeWarning: overflow encountered in exp\n",
      "  np.exp(prob, prob)\n",
      " 45%|████▌     | 432/952 [08:17<10:32,  1.22s/it]/Users/prady/.local/lib/python3.7/site-packages/sklearn/linear_model/base.py:297: RuntimeWarning: overflow encountered in exp\n",
      "  np.exp(prob, prob)\n",
      " 45%|████▌     | 433/952 [08:24<26:25,  3.05s/it]/Users/prady/.local/lib/python3.7/site-packages/sklearn/linear_model/base.py:297: RuntimeWarning: overflow encountered in exp\n",
      "  np.exp(prob, prob)\n",
      " 49%|████▊     | 464/952 [08:52<05:25,  1.50it/s]/Users/prady/.local/lib/python3.7/site-packages/sklearn/linear_model/base.py:297: RuntimeWarning: overflow encountered in exp\n",
      "  np.exp(prob, prob)\n",
      " 49%|████▉     | 471/952 [09:02<09:51,  1.23s/it]/Users/prady/.local/lib/python3.7/site-packages/sklearn/linear_model/base.py:297: RuntimeWarning: overflow encountered in exp\n",
      "  np.exp(prob, prob)\n",
      " 50%|████▉     | 472/952 [09:08<20:15,  2.53s/it]/Users/prady/.local/lib/python3.7/site-packages/sklearn/linear_model/base.py:297: RuntimeWarning: overflow encountered in exp\n",
      "  np.exp(prob, prob)\n",
      " 50%|████▉     | 474/952 [09:17<26:10,  3.29s/it]/Users/prady/.local/lib/python3.7/site-packages/sklearn/linear_model/base.py:297: RuntimeWarning: overflow encountered in exp\n",
      "  np.exp(prob, prob)\n",
      " 51%|█████     | 481/952 [09:29<08:13,  1.05s/it]/Users/prady/.local/lib/python3.7/site-packages/sklearn/linear_model/base.py:297: RuntimeWarning: overflow encountered in exp\n",
      "  np.exp(prob, prob)\n",
      " 51%|█████     | 485/952 [09:37<08:57,  1.15s/it]/Users/prady/.local/lib/python3.7/site-packages/sklearn/linear_model/base.py:297: RuntimeWarning: overflow encountered in exp\n",
      "  np.exp(prob, prob)\n",
      " 52%|█████▏    | 496/952 [09:50<04:35,  1.65it/s]/Users/prady/.local/lib/python3.7/site-packages/sklearn/linear_model/base.py:297: RuntimeWarning: overflow encountered in exp\n",
      "  np.exp(prob, prob)\n",
      " 54%|█████▍    | 514/952 [10:23<06:18,  1.16it/s]/Users/prady/.local/lib/python3.7/site-packages/sklearn/linear_model/base.py:297: RuntimeWarning: overflow encountered in exp\n",
      "  np.exp(prob, prob)\n",
      " 54%|█████▍    | 517/952 [10:31<11:37,  1.60s/it]/Users/prady/.local/lib/python3.7/site-packages/sklearn/linear_model/base.py:297: RuntimeWarning: overflow encountered in exp\n",
      "  np.exp(prob, prob)\n",
      " 56%|█████▌    | 534/952 [10:51<12:17,  1.76s/it]/Users/prady/.local/lib/python3.7/site-packages/sklearn/linear_model/base.py:297: RuntimeWarning: overflow encountered in exp\n",
      "  np.exp(prob, prob)\n",
      " 57%|█████▋    | 540/952 [11:02<12:15,  1.79s/it]/Users/prady/.local/lib/python3.7/site-packages/sklearn/linear_model/base.py:297: RuntimeWarning: overflow encountered in exp\n",
      "  np.exp(prob, prob)\n",
      " 57%|█████▋    | 542/952 [11:07<12:41,  1.86s/it]/Users/prady/.local/lib/python3.7/site-packages/sklearn/linear_model/base.py:297: RuntimeWarning: overflow encountered in exp\n",
      "  np.exp(prob, prob)\n",
      " 59%|█████▊    | 557/952 [11:32<05:01,  1.31it/s]/Users/prady/.local/lib/python3.7/site-packages/sklearn/linear_model/base.py:297: RuntimeWarning: overflow encountered in exp\n",
      "  np.exp(prob, prob)\n"
     ]
    },
    {
     "name": "stderr",
     "output_type": "stream",
     "text": [
      " 62%|██████▏   | 590/952 [12:17<05:04,  1.19it/s]/Users/prady/.local/lib/python3.7/site-packages/sklearn/linear_model/base.py:297: RuntimeWarning: overflow encountered in exp\n",
      "  np.exp(prob, prob)\n",
      " 63%|██████▎   | 598/952 [12:29<08:04,  1.37s/it]/Users/prady/.local/lib/python3.7/site-packages/sklearn/linear_model/base.py:297: RuntimeWarning: overflow encountered in exp\n",
      "  np.exp(prob, prob)\n",
      " 66%|██████▌   | 626/952 [12:52<07:00,  1.29s/it]/Users/prady/.local/lib/python3.7/site-packages/sklearn/linear_model/base.py:297: RuntimeWarning: overflow encountered in exp\n",
      "  np.exp(prob, prob)\n",
      " 66%|██████▌   | 629/952 [13:06<18:21,  3.41s/it]/Users/prady/.local/lib/python3.7/site-packages/sklearn/linear_model/base.py:297: RuntimeWarning: overflow encountered in exp\n",
      "  np.exp(prob, prob)\n",
      " 68%|██████▊   | 648/952 [13:39<08:08,  1.61s/it]/Users/prady/.local/lib/python3.7/site-packages/sklearn/linear_model/base.py:297: RuntimeWarning: overflow encountered in exp\n",
      "  np.exp(prob, prob)\n",
      " 69%|██████▉   | 660/952 [13:56<02:17,  2.12it/s]/Users/prady/.local/lib/python3.7/site-packages/sklearn/linear_model/base.py:297: RuntimeWarning: overflow encountered in exp\n",
      "  np.exp(prob, prob)\n",
      " 70%|███████   | 667/952 [14:11<06:13,  1.31s/it]/Users/prady/.local/lib/python3.7/site-packages/sklearn/linear_model/base.py:297: RuntimeWarning: overflow encountered in exp\n",
      "  np.exp(prob, prob)\n",
      " 70%|███████   | 668/952 [14:16<11:21,  2.40s/it]/Users/prady/.local/lib/python3.7/site-packages/sklearn/linear_model/base.py:297: RuntimeWarning: overflow encountered in exp\n",
      "  np.exp(prob, prob)\n",
      " 75%|███████▍  | 711/952 [14:53<01:11,  3.36it/s]/Users/prady/.local/lib/python3.7/site-packages/sklearn/linear_model/base.py:297: RuntimeWarning: overflow encountered in exp\n",
      "  np.exp(prob, prob)\n",
      " 75%|███████▌  | 717/952 [15:01<02:26,  1.61it/s]/Users/prady/.local/lib/python3.7/site-packages/sklearn/linear_model/base.py:297: RuntimeWarning: overflow encountered in exp\n",
      "  np.exp(prob, prob)\n",
      " 76%|███████▌  | 722/952 [15:08<03:04,  1.25it/s]/Users/prady/.local/lib/python3.7/site-packages/sklearn/linear_model/base.py:297: RuntimeWarning: overflow encountered in exp\n",
      "  np.exp(prob, prob)\n",
      " 77%|███████▋  | 734/952 [15:29<03:06,  1.17it/s]/Users/prady/.local/lib/python3.7/site-packages/sklearn/linear_model/base.py:297: RuntimeWarning: overflow encountered in exp\n",
      "  np.exp(prob, prob)\n",
      " 83%|████████▎ | 788/952 [16:41<04:30,  1.65s/it]/Users/prady/.local/lib/python3.7/site-packages/sklearn/linear_model/base.py:297: RuntimeWarning: overflow encountered in exp\n",
      "  np.exp(prob, prob)\n",
      " 84%|████████▎ | 795/952 [16:53<02:34,  1.02it/s]/Users/prady/.local/lib/python3.7/site-packages/sklearn/linear_model/base.py:297: RuntimeWarning: overflow encountered in exp\n",
      "  np.exp(prob, prob)\n",
      " 84%|████████▍ | 801/952 [17:07<03:51,  1.53s/it]/Users/prady/.local/lib/python3.7/site-packages/sklearn/linear_model/base.py:297: RuntimeWarning: overflow encountered in exp\n",
      "  np.exp(prob, prob)\n",
      " 86%|████████▌ | 816/952 [17:20<02:08,  1.06it/s]/Users/prady/.local/lib/python3.7/site-packages/sklearn/linear_model/base.py:297: RuntimeWarning: overflow encountered in exp\n",
      "  np.exp(prob, prob)\n",
      " 86%|████████▋ | 822/952 [17:34<03:50,  1.78s/it]/Users/prady/.local/lib/python3.7/site-packages/sklearn/linear_model/base.py:297: RuntimeWarning: overflow encountered in exp\n",
      "  np.exp(prob, prob)\n",
      " 87%|████████▋ | 827/952 [17:43<02:12,  1.06s/it]/Users/prady/.local/lib/python3.7/site-packages/sklearn/linear_model/base.py:297: RuntimeWarning: overflow encountered in exp\n",
      "  np.exp(prob, prob)\n",
      " 88%|████████▊ | 841/952 [17:59<03:30,  1.90s/it]/Users/prady/.local/lib/python3.7/site-packages/sklearn/linear_model/base.py:297: RuntimeWarning: overflow encountered in exp\n",
      "  np.exp(prob, prob)\n",
      " 90%|████████▉ | 854/952 [18:19<02:04,  1.27s/it]/Users/prady/.local/lib/python3.7/site-packages/sklearn/linear_model/base.py:297: RuntimeWarning: overflow encountered in exp\n",
      "  np.exp(prob, prob)\n",
      " 91%|█████████▏| 870/952 [18:32<00:33,  2.43it/s]/Users/prady/.local/lib/python3.7/site-packages/sklearn/linear_model/base.py:297: RuntimeWarning: overflow encountered in exp\n",
      "  np.exp(prob, prob)\n",
      " 93%|█████████▎| 882/952 [18:44<00:23,  3.02it/s]/Users/prady/.local/lib/python3.7/site-packages/sklearn/linear_model/base.py:297: RuntimeWarning: overflow encountered in exp\n",
      "  np.exp(prob, prob)\n",
      " 96%|█████████▌| 913/952 [19:10<00:25,  1.56it/s]/Users/prady/.local/lib/python3.7/site-packages/sklearn/linear_model/base.py:297: RuntimeWarning: overflow encountered in exp\n",
      "  np.exp(prob, prob)\n",
      " 97%|█████████▋| 919/952 [19:20<00:27,  1.21it/s]/Users/prady/.local/lib/python3.7/site-packages/sklearn/linear_model/base.py:297: RuntimeWarning: overflow encountered in exp\n",
      "  np.exp(prob, prob)\n",
      " 97%|█████████▋| 923/952 [19:26<00:27,  1.04it/s]/Users/prady/.local/lib/python3.7/site-packages/sklearn/linear_model/base.py:297: RuntimeWarning: overflow encountered in exp\n",
      "  np.exp(prob, prob)\n",
      " 97%|█████████▋| 926/952 [19:32<00:44,  1.71s/it]/Users/prady/.local/lib/python3.7/site-packages/sklearn/linear_model/base.py:297: RuntimeWarning: overflow encountered in exp\n",
      "  np.exp(prob, prob)\n",
      " 98%|█████████▊| 935/952 [19:41<00:09,  1.74it/s]/Users/prady/.local/lib/python3.7/site-packages/sklearn/linear_model/base.py:297: RuntimeWarning: overflow encountered in exp\n",
      "  np.exp(prob, prob)\n",
      "100%|█████████▉| 950/952 [19:57<00:01,  1.95it/s]/Users/prady/.local/lib/python3.7/site-packages/sklearn/linear_model/base.py:297: RuntimeWarning: overflow encountered in exp\n",
      "  np.exp(prob, prob)\n",
      "100%|██████████| 952/952 [20:05<00:00,  1.27s/it]\n",
      " 33%|███▎      | 7/21 [00:00<00:00, 54.29it/s]"
     ]
    },
    {
     "name": "stdout",
     "output_type": "stream",
     "text": [
      "completed in 1230.4275200366974\n",
      "18 out of 50\n",
      "../../rawdata/EntrepreneurRideAlong/EntrepreneurRideAlong_rising.csv\n"
     ]
    },
    {
     "name": "stderr",
     "output_type": "stream",
     "text": [
      "100%|██████████| 21/21 [00:00<00:00, 36.16it/s]\n",
      " 81%|████████  | 17/21 [00:26<00:10,  2.57s/it]/Users/prady/.local/lib/python3.7/site-packages/sklearn/linear_model/base.py:297: RuntimeWarning: overflow encountered in exp\n",
      "  np.exp(prob, prob)\n",
      "100%|██████████| 21/21 [00:33<00:00,  1.59s/it]\n",
      "  0%|          | 0/923 [00:00<?, ?it/s]"
     ]
    },
    {
     "name": "stdout",
     "output_type": "stream",
     "text": [
      "completed in 34.481842041015625\n",
      "19 out of 50\n",
      "../../rawdata/EntrepreneurRideAlong/EntrepreneurRideAlong_new.csv\n"
     ]
    },
    {
     "name": "stderr",
     "output_type": "stream",
     "text": [
      "100%|██████████| 923/923 [00:18<00:00, 50.16it/s]\n",
      "  3%|▎         | 31/923 [00:38<27:45,  1.87s/it]/Users/prady/.local/lib/python3.7/site-packages/sklearn/linear_model/base.py:297: RuntimeWarning: overflow encountered in exp\n",
      "  np.exp(prob, prob)\n",
      "  7%|▋         | 64/923 [01:13<09:41,  1.48it/s]/Users/prady/.local/lib/python3.7/site-packages/sklearn/linear_model/base.py:297: RuntimeWarning: overflow encountered in exp\n",
      "  np.exp(prob, prob)\n",
      "  9%|▉         | 85/923 [01:39<07:00,  1.99it/s]/Users/prady/.local/lib/python3.7/site-packages/sklearn/linear_model/base.py:297: RuntimeWarning: overflow encountered in exp\n",
      "  np.exp(prob, prob)\n",
      " 10%|█         | 94/923 [01:50<07:56,  1.74it/s]/Users/prady/.local/lib/python3.7/site-packages/sklearn/linear_model/base.py:297: RuntimeWarning: overflow encountered in exp\n",
      "  np.exp(prob, prob)\n",
      " 13%|█▎        | 118/923 [02:13<08:39,  1.55it/s]/Users/prady/.local/lib/python3.7/site-packages/sklearn/linear_model/base.py:297: RuntimeWarning: overflow encountered in exp\n",
      "  np.exp(prob, prob)\n",
      " 15%|█▌        | 141/923 [02:30<08:13,  1.58it/s]/Users/prady/.local/lib/python3.7/site-packages/sklearn/linear_model/base.py:297: RuntimeWarning: overflow encountered in exp\n",
      "  np.exp(prob, prob)\n",
      " 15%|█▌        | 142/923 [02:35<27:32,  2.12s/it]/Users/prady/.local/lib/python3.7/site-packages/sklearn/linear_model/base.py:297: RuntimeWarning: overflow encountered in exp\n",
      "  np.exp(prob, prob)\n",
      " 16%|█▌        | 148/923 [02:41<09:27,  1.36it/s]/Users/prady/.local/lib/python3.7/site-packages/sklearn/linear_model/base.py:297: RuntimeWarning: overflow encountered in exp\n",
      "  np.exp(prob, prob)\n",
      " 17%|█▋        | 153/923 [02:52<20:44,  1.62s/it]/Users/prady/.local/lib/python3.7/site-packages/sklearn/linear_model/base.py:297: RuntimeWarning: overflow encountered in exp\n",
      "  np.exp(prob, prob)\n",
      " 18%|█▊        | 164/923 [03:06<16:11,  1.28s/it]/Users/prady/.local/lib/python3.7/site-packages/sklearn/linear_model/base.py:297: RuntimeWarning: overflow encountered in exp\n",
      "  np.exp(prob, prob)\n",
      " 18%|█▊        | 167/923 [03:16<27:37,  2.19s/it]/Users/prady/.local/lib/python3.7/site-packages/sklearn/linear_model/base.py:297: RuntimeWarning: overflow encountered in exp\n",
      "  np.exp(prob, prob)\n",
      " 19%|█▉        | 174/923 [03:25<08:29,  1.47it/s]/Users/prady/.local/lib/python3.7/site-packages/sklearn/linear_model/base.py:297: RuntimeWarning: overflow encountered in exp\n",
      "  np.exp(prob, prob)\n",
      " 19%|█▉        | 178/923 [03:34<17:39,  1.42s/it]/Users/prady/.local/lib/python3.7/site-packages/sklearn/linear_model/base.py:297: RuntimeWarning: overflow encountered in exp\n",
      "  np.exp(prob, prob)\n",
      " 24%|██▍       | 221/923 [04:35<20:00,  1.71s/it]/Users/prady/.local/lib/python3.7/site-packages/sklearn/linear_model/base.py:297: RuntimeWarning: overflow encountered in exp\n",
      "  np.exp(prob, prob)\n",
      " 24%|██▍       | 223/923 [04:41<22:42,  1.95s/it]/Users/prady/.local/lib/python3.7/site-packages/sklearn/linear_model/base.py:297: RuntimeWarning: overflow encountered in exp\n",
      "  np.exp(prob, prob)\n",
      " 28%|██▊       | 255/923 [05:07<08:16,  1.35it/s]/Users/prady/.local/lib/python3.7/site-packages/sklearn/linear_model/base.py:297: RuntimeWarning: overflow encountered in exp\n",
      "  np.exp(prob, prob)\n",
      " 28%|██▊       | 258/923 [05:19<22:21,  2.02s/it]/Users/prady/.local/lib/python3.7/site-packages/sklearn/linear_model/base.py:297: RuntimeWarning: overflow encountered in exp\n",
      "  np.exp(prob, prob)\n",
      " 30%|███       | 279/923 [05:53<08:35,  1.25it/s]/Users/prady/.local/lib/python3.7/site-packages/sklearn/linear_model/base.py:297: RuntimeWarning: overflow encountered in exp\n",
      "  np.exp(prob, prob)\n",
      " 31%|███       | 283/923 [05:59<13:04,  1.23s/it]/Users/prady/.local/lib/python3.7/site-packages/sklearn/linear_model/base.py:297: RuntimeWarning: overflow encountered in exp\n",
      "  np.exp(prob, prob)\n",
      " 31%|███       | 284/923 [06:07<33:31,  3.15s/it]/Users/prady/.local/lib/python3.7/site-packages/sklearn/linear_model/base.py:297: RuntimeWarning: overflow encountered in exp\n",
      "  np.exp(prob, prob)\n",
      " 34%|███▎      | 310/923 [06:28<11:35,  1.13s/it]/Users/prady/.local/lib/python3.7/site-packages/sklearn/linear_model/base.py:297: RuntimeWarning: overflow encountered in exp\n",
      "  np.exp(prob, prob)\n",
      " 35%|███▍      | 321/923 [06:45<06:15,  1.60it/s]/Users/prady/.local/lib/python3.7/site-packages/sklearn/linear_model/base.py:297: RuntimeWarning: overflow encountered in exp\n",
      "  np.exp(prob, prob)\n",
      " 37%|███▋      | 344/923 [07:08<02:46,  3.47it/s]/Users/prady/.local/lib/python3.7/site-packages/sklearn/linear_model/base.py:297: RuntimeWarning: overflow encountered in exp\n",
      "  np.exp(prob, prob)\n",
      " 41%|████      | 378/923 [07:44<06:50,  1.33it/s]/Users/prady/.local/lib/python3.7/site-packages/sklearn/linear_model/base.py:297: RuntimeWarning: overflow encountered in exp\n",
      "  np.exp(prob, prob)\n",
      " 42%|████▏     | 388/923 [07:57<05:08,  1.73it/s]/Users/prady/.local/lib/python3.7/site-packages/sklearn/linear_model/base.py:297: RuntimeWarning: overflow encountered in exp\n",
      "  np.exp(prob, prob)\n",
      " 44%|████▍     | 408/923 [08:14<04:45,  1.80it/s]/Users/prady/.local/lib/python3.7/site-packages/sklearn/linear_model/base.py:297: RuntimeWarning: overflow encountered in exp\n",
      "  np.exp(prob, prob)\n",
      " 45%|████▌     | 419/923 [08:29<11:25,  1.36s/it]/Users/prady/.local/lib/python3.7/site-packages/sklearn/linear_model/base.py:297: RuntimeWarning: overflow encountered in exp\n",
      "  np.exp(prob, prob)\n",
      " 46%|████▌     | 420/923 [08:37<28:32,  3.40s/it]/Users/prady/.local/lib/python3.7/site-packages/sklearn/linear_model/base.py:297: RuntimeWarning: overflow encountered in exp\n",
      "  np.exp(prob, prob)\n",
      " 49%|████▉     | 451/923 [09:06<04:57,  1.59it/s]/Users/prady/.local/lib/python3.7/site-packages/sklearn/linear_model/base.py:297: RuntimeWarning: overflow encountered in exp\n",
      "  np.exp(prob, prob)\n",
      " 50%|████▉     | 458/923 [09:17<09:39,  1.25s/it]/Users/prady/.local/lib/python3.7/site-packages/sklearn/linear_model/base.py:297: RuntimeWarning: overflow encountered in exp\n",
      "  np.exp(prob, prob)\n",
      " 50%|████▉     | 459/923 [09:23<20:56,  2.71s/it]/Users/prady/.local/lib/python3.7/site-packages/sklearn/linear_model/base.py:297: RuntimeWarning: overflow encountered in exp\n",
      "  np.exp(prob, prob)\n",
      " 50%|████▉     | 461/923 [09:33<27:22,  3.55s/it]/Users/prady/.local/lib/python3.7/site-packages/sklearn/linear_model/base.py:297: RuntimeWarning: overflow encountered in exp\n",
      "  np.exp(prob, prob)\n",
      " 51%|█████     | 468/923 [09:46<07:45,  1.02s/it]/Users/prady/.local/lib/python3.7/site-packages/sklearn/linear_model/base.py:297: RuntimeWarning: overflow encountered in exp\n",
      "  np.exp(prob, prob)\n",
      " 51%|█████     | 472/923 [09:53<08:44,  1.16s/it]/Users/prady/.local/lib/python3.7/site-packages/sklearn/linear_model/base.py:297: RuntimeWarning: overflow encountered in exp\n",
      "  np.exp(prob, prob)\n",
      " 52%|█████▏    | 483/923 [10:07<04:41,  1.57it/s]/Users/prady/.local/lib/python3.7/site-packages/sklearn/linear_model/base.py:297: RuntimeWarning: overflow encountered in exp\n",
      "  np.exp(prob, prob)\n",
      " 54%|█████▍    | 501/923 [10:35<05:45,  1.22it/s]/Users/prady/.local/lib/python3.7/site-packages/sklearn/linear_model/base.py:297: RuntimeWarning: overflow encountered in exp\n",
      "  np.exp(prob, prob)\n",
      " 56%|█████▋    | 520/923 [10:55<07:56,  1.18s/it]/Users/prady/.local/lib/python3.7/site-packages/sklearn/linear_model/base.py:297: RuntimeWarning: overflow encountered in exp\n",
      "  np.exp(prob, prob)\n",
      " 57%|█████▋    | 526/923 [11:06<12:30,  1.89s/it]/Users/prady/.local/lib/python3.7/site-packages/sklearn/linear_model/base.py:297: RuntimeWarning: overflow encountered in exp\n",
      "  np.exp(prob, prob)\n",
      " 57%|█████▋    | 528/923 [11:11<12:26,  1.89s/it]/Users/prady/.local/lib/python3.7/site-packages/sklearn/linear_model/base.py:297: RuntimeWarning: overflow encountered in exp\n",
      "  np.exp(prob, prob)\n",
      " 59%|█████▊    | 541/923 [11:32<05:50,  1.09it/s]/Users/prady/.local/lib/python3.7/site-packages/sklearn/linear_model/base.py:297: RuntimeWarning: overflow encountered in exp\n",
      "  np.exp(prob, prob)\n",
      " 62%|██████▏   | 574/923 [12:20<05:22,  1.08it/s]/Users/prady/.local/lib/python3.7/site-packages/sklearn/linear_model/base.py:297: RuntimeWarning: overflow encountered in exp\n",
      "  np.exp(prob, prob)\n",
      " 63%|██████▎   | 582/923 [12:32<07:55,  1.40s/it]/Users/prady/.local/lib/python3.7/site-packages/sklearn/linear_model/base.py:297: RuntimeWarning: overflow encountered in exp\n",
      "  np.exp(prob, prob)\n"
     ]
    },
    {
     "name": "stderr",
     "output_type": "stream",
     "text": [
      " 66%|██████▌   | 607/923 [12:51<05:28,  1.04s/it]/Users/prady/.local/lib/python3.7/site-packages/sklearn/linear_model/base.py:297: RuntimeWarning: overflow encountered in exp\n",
      "  np.exp(prob, prob)\n",
      " 68%|██████▊   | 627/923 [13:24<08:05,  1.64s/it]/Users/prady/.local/lib/python3.7/site-packages/sklearn/linear_model/base.py:297: RuntimeWarning: overflow encountered in exp\n",
      "  np.exp(prob, prob)\n",
      " 69%|██████▉   | 639/923 [13:41<02:06,  2.25it/s]/Users/prady/.local/lib/python3.7/site-packages/sklearn/linear_model/base.py:297: RuntimeWarning: overflow encountered in exp\n",
      "  np.exp(prob, prob)\n",
      " 70%|██████▉   | 646/923 [13:52<04:51,  1.05s/it]/Users/prady/.local/lib/python3.7/site-packages/sklearn/linear_model/base.py:297: RuntimeWarning: overflow encountered in exp\n",
      "  np.exp(prob, prob)\n",
      " 70%|███████   | 647/923 [13:58<11:05,  2.41s/it]/Users/prady/.local/lib/python3.7/site-packages/sklearn/linear_model/base.py:297: RuntimeWarning: overflow encountered in exp\n",
      "  np.exp(prob, prob)\n",
      " 75%|███████▍  | 689/923 [14:36<01:27,  2.67it/s]/Users/prady/.local/lib/python3.7/site-packages/sklearn/linear_model/base.py:297: RuntimeWarning: overflow encountered in exp\n",
      "  np.exp(prob, prob)\n",
      " 75%|███████▌  | 695/923 [14:45<02:38,  1.44it/s]/Users/prady/.local/lib/python3.7/site-packages/sklearn/linear_model/base.py:297: RuntimeWarning: overflow encountered in exp\n",
      "  np.exp(prob, prob)\n",
      " 76%|███████▌  | 700/923 [14:55<03:46,  1.02s/it]/Users/prady/.local/lib/python3.7/site-packages/sklearn/linear_model/base.py:297: RuntimeWarning: overflow encountered in exp\n",
      "  np.exp(prob, prob)\n",
      " 77%|███████▋  | 712/923 [15:22<03:34,  1.02s/it]/Users/prady/.local/lib/python3.7/site-packages/sklearn/linear_model/base.py:297: RuntimeWarning: overflow encountered in exp\n",
      "  np.exp(prob, prob)\n",
      " 83%|████████▎ | 766/923 [16:42<05:00,  1.91s/it]/Users/prady/.local/lib/python3.7/site-packages/sklearn/linear_model/base.py:297: RuntimeWarning: overflow encountered in exp\n",
      "  np.exp(prob, prob)\n",
      " 84%|████████▎ | 772/923 [16:55<03:42,  1.47s/it]/Users/prady/.local/lib/python3.7/site-packages/sklearn/linear_model/base.py:297: RuntimeWarning: overflow encountered in exp\n",
      "  np.exp(prob, prob)\n",
      " 84%|████████▍ | 779/923 [17:13<03:11,  1.33s/it]/Users/prady/.local/lib/python3.7/site-packages/sklearn/linear_model/base.py:297: RuntimeWarning: overflow encountered in exp\n",
      "  np.exp(prob, prob)\n",
      " 86%|████████▌ | 793/923 [17:25<01:34,  1.38it/s]/Users/prady/.local/lib/python3.7/site-packages/sklearn/linear_model/base.py:297: RuntimeWarning: overflow encountered in exp\n",
      "  np.exp(prob, prob)\n",
      " 87%|████████▋ | 799/923 [17:40<04:43,  2.28s/it]/Users/prady/.local/lib/python3.7/site-packages/sklearn/linear_model/base.py:297: RuntimeWarning: overflow encountered in exp\n",
      "  np.exp(prob, prob)\n",
      " 87%|████████▋ | 803/923 [17:48<03:07,  1.56s/it]/Users/prady/.local/lib/python3.7/site-packages/sklearn/linear_model/base.py:297: RuntimeWarning: overflow encountered in exp\n",
      "  np.exp(prob, prob)\n",
      " 89%|████████▊ | 817/923 [18:04<02:55,  1.66s/it]/Users/prady/.local/lib/python3.7/site-packages/sklearn/linear_model/base.py:297: RuntimeWarning: overflow encountered in exp\n",
      "  np.exp(prob, prob)\n",
      " 90%|████████▉ | 828/923 [18:22<02:07,  1.34s/it]/Users/prady/.local/lib/python3.7/site-packages/sklearn/linear_model/base.py:297: RuntimeWarning: overflow encountered in exp\n",
      "  np.exp(prob, prob)\n",
      " 91%|█████████▏| 844/923 [18:37<00:35,  2.20it/s]/Users/prady/.local/lib/python3.7/site-packages/sklearn/linear_model/base.py:297: RuntimeWarning: overflow encountered in exp\n",
      "  np.exp(prob, prob)\n",
      " 93%|█████████▎| 856/923 [18:48<00:22,  2.94it/s]/Users/prady/.local/lib/python3.7/site-packages/sklearn/linear_model/base.py:297: RuntimeWarning: overflow encountered in exp\n",
      "  np.exp(prob, prob)\n",
      " 96%|█████████▌| 887/923 [19:19<00:31,  1.14it/s]/Users/prady/.local/lib/python3.7/site-packages/sklearn/linear_model/base.py:297: RuntimeWarning: overflow encountered in exp\n",
      "  np.exp(prob, prob)\n",
      " 97%|█████████▋| 892/923 [19:28<00:30,  1.03it/s]/Users/prady/.local/lib/python3.7/site-packages/sklearn/linear_model/base.py:297: RuntimeWarning: overflow encountered in exp\n",
      "  np.exp(prob, prob)\n",
      " 97%|█████████▋| 896/923 [19:34<00:26,  1.01it/s]/Users/prady/.local/lib/python3.7/site-packages/sklearn/linear_model/base.py:297: RuntimeWarning: overflow encountered in exp\n",
      "  np.exp(prob, prob)\n",
      " 97%|█████████▋| 899/923 [19:40<00:41,  1.72s/it]/Users/prady/.local/lib/python3.7/site-packages/sklearn/linear_model/base.py:297: RuntimeWarning: overflow encountered in exp\n",
      "  np.exp(prob, prob)\n",
      "100%|█████████▉| 921/923 [20:00<00:01,  1.77it/s]/Users/prady/.local/lib/python3.7/site-packages/sklearn/linear_model/base.py:297: RuntimeWarning: overflow encountered in exp\n",
      "  np.exp(prob, prob)\n",
      "100%|██████████| 923/923 [20:07<00:00,  1.31s/it]\n"
     ]
    },
    {
     "name": "stdout",
     "output_type": "stream",
     "text": [
      "completed in 1229.312996149063\n",
      "20 out of 50\n",
      "../../rawdata/EntrepreneurRideAlong/EntrepreneurRideAlong_top.csv\n"
     ]
    },
    {
     "name": "stderr",
     "output_type": "stream",
     "text": [
      "100%|██████████| 993/993 [00:21<00:00, 46.75it/s]\n",
      "  0%|          | 0/993 [00:00<?, ?it/s]/Users/prady/.local/lib/python3.7/site-packages/sklearn/linear_model/base.py:297: RuntimeWarning: overflow encountered in exp\n",
      "  np.exp(prob, prob)\n",
      "  2%|▏         | 17/993 [00:33<23:02,  1.42s/it] /Users/prady/.local/lib/python3.7/site-packages/sklearn/linear_model/base.py:297: RuntimeWarning: overflow encountered in exp\n",
      "  np.exp(prob, prob)\n",
      "  2%|▏         | 24/993 [00:46<18:47,  1.16s/it]/Users/prady/.local/lib/python3.7/site-packages/sklearn/linear_model/base.py:297: RuntimeWarning: overflow encountered in exp\n",
      "  np.exp(prob, prob)\n",
      "  4%|▍         | 44/993 [01:03<11:03,  1.43it/s]/Users/prady/.local/lib/python3.7/site-packages/sklearn/linear_model/base.py:297: RuntimeWarning: overflow encountered in exp\n",
      "  np.exp(prob, prob)\n",
      "  8%|▊         | 80/993 [01:53<16:40,  1.10s/it]/Users/prady/.local/lib/python3.7/site-packages/sklearn/linear_model/base.py:297: RuntimeWarning: overflow encountered in exp\n",
      "  np.exp(prob, prob)\n",
      "  8%|▊         | 82/993 [02:02<37:05,  2.44s/it]/Users/prady/.local/lib/python3.7/site-packages/sklearn/linear_model/base.py:297: RuntimeWarning: overflow encountered in exp\n",
      "  np.exp(prob, prob)\n",
      "  9%|▉         | 88/993 [02:22<37:42,  2.50s/it]  /Users/prady/.local/lib/python3.7/site-packages/sklearn/linear_model/base.py:297: RuntimeWarning: overflow encountered in exp\n",
      "  np.exp(prob, prob)\n",
      "  9%|▉         | 89/993 [02:30<1:04:48,  4.30s/it]/Users/prady/.local/lib/python3.7/site-packages/sklearn/linear_model/base.py:297: RuntimeWarning: overflow encountered in exp\n",
      "  np.exp(prob, prob)\n",
      "  9%|▉         | 91/993 [02:42<1:17:31,  5.16s/it]/Users/prady/.local/lib/python3.7/site-packages/sklearn/linear_model/base.py:297: RuntimeWarning: overflow encountered in exp\n",
      "  np.exp(prob, prob)\n",
      " 13%|█▎        | 125/993 [03:24<09:17,  1.56it/s] /Users/prady/.local/lib/python3.7/site-packages/sklearn/linear_model/base.py:297: RuntimeWarning: overflow encountered in exp\n",
      "  np.exp(prob, prob)\n",
      " 14%|█▎        | 136/993 [03:47<38:39,  2.71s/it]/Users/prady/.local/lib/python3.7/site-packages/sklearn/linear_model/base.py:297: RuntimeWarning: overflow encountered in exp\n",
      "  np.exp(prob, prob)\n",
      " 14%|█▍        | 137/993 [03:53<55:31,  3.89s/it]/Users/prady/.local/lib/python3.7/site-packages/sklearn/linear_model/base.py:297: RuntimeWarning: overflow encountered in exp\n",
      "  np.exp(prob, prob)\n",
      " 14%|█▍        | 139/993 [04:03<56:03,  3.94s/it]  /Users/prady/.local/lib/python3.7/site-packages/sklearn/linear_model/base.py:297: RuntimeWarning: overflow encountered in exp\n",
      "  np.exp(prob, prob)\n",
      " 15%|█▍        | 145/993 [04:18<38:13,  2.70s/it]/Users/prady/.local/lib/python3.7/site-packages/sklearn/linear_model/base.py:297: RuntimeWarning: overflow encountered in exp\n",
      "  np.exp(prob, prob)\n",
      " 15%|█▌        | 152/993 [04:39<40:25,  2.88s/it]/Users/prady/.local/lib/python3.7/site-packages/sklearn/linear_model/base.py:297: RuntimeWarning: overflow encountered in exp\n",
      "  np.exp(prob, prob)\n",
      " 16%|█▌        | 157/993 [04:50<27:51,  2.00s/it]/Users/prady/.local/lib/python3.7/site-packages/sklearn/linear_model/base.py:297: RuntimeWarning: overflow encountered in exp\n",
      "  np.exp(prob, prob)\n",
      " 16%|█▌        | 158/993 [04:56<41:52,  3.01s/it]/Users/prady/.local/lib/python3.7/site-packages/sklearn/linear_model/base.py:297: RuntimeWarning: overflow encountered in exp\n",
      "  np.exp(prob, prob)\n",
      " 18%|█▊        | 183/993 [05:20<08:14,  1.64it/s]/Users/prady/.local/lib/python3.7/site-packages/sklearn/linear_model/base.py:297: RuntimeWarning: overflow encountered in exp\n",
      "  np.exp(prob, prob)\n",
      " 20%|█▉        | 198/993 [05:47<21:12,  1.60s/it]/Users/prady/.local/lib/python3.7/site-packages/sklearn/linear_model/base.py:297: RuntimeWarning: overflow encountered in exp\n",
      "  np.exp(prob, prob)\n",
      " 22%|██▏       | 221/993 [06:21<27:16,  2.12s/it]/Users/prady/.local/lib/python3.7/site-packages/sklearn/linear_model/base.py:297: RuntimeWarning: overflow encountered in exp\n",
      "  np.exp(prob, prob)\n",
      " 23%|██▎       | 224/993 [06:35<40:05,  3.13s/it]  /Users/prady/.local/lib/python3.7/site-packages/sklearn/linear_model/base.py:297: RuntimeWarning: overflow encountered in exp\n",
      "  np.exp(prob, prob)\n",
      " 23%|██▎       | 232/993 [06:52<16:56,  1.34s/it]/Users/prady/.local/lib/python3.7/site-packages/sklearn/linear_model/base.py:297: RuntimeWarning: overflow encountered in exp\n",
      "  np.exp(prob, prob)\n",
      " 24%|██▍       | 241/993 [07:02<09:57,  1.26it/s]/Users/prady/.local/lib/python3.7/site-packages/sklearn/linear_model/base.py:297: RuntimeWarning: overflow encountered in exp\n",
      "  np.exp(prob, prob)\n",
      " 24%|██▍       | 243/993 [07:10<27:41,  2.22s/it]/Users/prady/.local/lib/python3.7/site-packages/sklearn/linear_model/base.py:297: RuntimeWarning: overflow encountered in exp\n",
      "  np.exp(prob, prob)\n",
      " 25%|██▍       | 248/993 [07:23<29:00,  2.34s/it]/Users/prady/.local/lib/python3.7/site-packages/sklearn/linear_model/base.py:297: RuntimeWarning: overflow encountered in exp\n",
      "  np.exp(prob, prob)\n",
      " 28%|██▊       | 279/993 [08:14<06:52,  1.73it/s]/Users/prady/.local/lib/python3.7/site-packages/sklearn/linear_model/base.py:297: RuntimeWarning: overflow encountered in exp\n",
      "  np.exp(prob, prob)\n",
      " 28%|██▊       | 281/993 [08:25<31:40,  2.67s/it]/Users/prady/.local/lib/python3.7/site-packages/sklearn/linear_model/base.py:297: RuntimeWarning: overflow encountered in exp\n",
      "  np.exp(prob, prob)\n",
      " 29%|██▉       | 289/993 [08:38<10:12,  1.15it/s]/Users/prady/.local/lib/python3.7/site-packages/sklearn/linear_model/base.py:297: RuntimeWarning: overflow encountered in exp\n",
      "  np.exp(prob, prob)\n",
      " 30%|██▉       | 295/993 [08:49<14:30,  1.25s/it]/Users/prady/.local/lib/python3.7/site-packages/sklearn/linear_model/base.py:297: RuntimeWarning: overflow encountered in exp\n",
      "  np.exp(prob, prob)\n",
      " 30%|███       | 300/993 [08:59<14:31,  1.26s/it]/Users/prady/.local/lib/python3.7/site-packages/sklearn/linear_model/base.py:297: RuntimeWarning: overflow encountered in exp\n",
      "  np.exp(prob, prob)\n",
      " 31%|███       | 304/993 [09:08<17:15,  1.50s/it]/Users/prady/.local/lib/python3.7/site-packages/sklearn/linear_model/base.py:297: RuntimeWarning: overflow encountered in exp\n",
      "  np.exp(prob, prob)\n",
      " 33%|███▎      | 332/993 [09:42<17:23,  1.58s/it]/Users/prady/.local/lib/python3.7/site-packages/sklearn/linear_model/base.py:297: RuntimeWarning: overflow encountered in exp\n",
      "  np.exp(prob, prob)\n",
      " 35%|███▍      | 343/993 [10:07<16:04,  1.48s/it]/Users/prady/.local/lib/python3.7/site-packages/sklearn/linear_model/base.py:297: RuntimeWarning: overflow encountered in exp\n",
      "  np.exp(prob, prob)\n",
      " 35%|███▌      | 350/993 [10:21<14:22,  1.34s/it]/Users/prady/.local/lib/python3.7/site-packages/sklearn/linear_model/base.py:297: RuntimeWarning: overflow encountered in exp\n",
      "  np.exp(prob, prob)\n",
      " 37%|███▋      | 366/993 [10:39<11:00,  1.05s/it]/Users/prady/.local/lib/python3.7/site-packages/sklearn/linear_model/base.py:297: RuntimeWarning: overflow encountered in exp\n",
      "  np.exp(prob, prob)\n",
      " 37%|███▋      | 369/993 [10:48<20:53,  2.01s/it]/Users/prady/.local/lib/python3.7/site-packages/sklearn/linear_model/base.py:297: RuntimeWarning: overflow encountered in exp\n",
      "  np.exp(prob, prob)\n",
      " 38%|███▊      | 377/993 [11:11<14:49,  1.44s/it]/Users/prady/.local/lib/python3.7/site-packages/sklearn/linear_model/base.py:297: RuntimeWarning: overflow encountered in exp\n",
      "  np.exp(prob, prob)\n",
      " 43%|████▎     | 430/993 [12:09<07:32,  1.24it/s]/Users/prady/.local/lib/python3.7/site-packages/sklearn/linear_model/base.py:297: RuntimeWarning: overflow encountered in exp\n",
      "  np.exp(prob, prob)\n",
      " 44%|████▎     | 433/993 [12:15<10:36,  1.14s/it]/Users/prady/.local/lib/python3.7/site-packages/sklearn/linear_model/base.py:297: RuntimeWarning: overflow encountered in exp\n",
      "  np.exp(prob, prob)\n",
      " 46%|████▋     | 460/993 [12:37<08:15,  1.08it/s]/Users/prady/.local/lib/python3.7/site-packages/sklearn/linear_model/base.py:297: RuntimeWarning: overflow encountered in exp\n",
      "  np.exp(prob, prob)\n",
      " 47%|████▋     | 463/993 [12:45<15:29,  1.75s/it]/Users/prady/.local/lib/python3.7/site-packages/sklearn/linear_model/base.py:297: RuntimeWarning: overflow encountered in exp\n",
      "  np.exp(prob, prob)\n",
      " 47%|████▋     | 467/993 [12:56<16:23,  1.87s/it]/Users/prady/.local/lib/python3.7/site-packages/sklearn/linear_model/base.py:297: RuntimeWarning: overflow encountered in exp\n",
      "  np.exp(prob, prob)\n"
     ]
    },
    {
     "name": "stderr",
     "output_type": "stream",
     "text": [
      " 49%|████▊     | 484/993 [13:26<11:44,  1.38s/it]/Users/prady/.local/lib/python3.7/site-packages/sklearn/linear_model/base.py:297: RuntimeWarning: overflow encountered in exp\n",
      "  np.exp(prob, prob)\n",
      " 50%|████▉     | 496/993 [13:47<08:26,  1.02s/it]/Users/prady/.local/lib/python3.7/site-packages/sklearn/linear_model/base.py:297: RuntimeWarning: overflow encountered in exp\n",
      "  np.exp(prob, prob)\n",
      " 51%|█████     | 508/993 [14:00<04:34,  1.77it/s]/Users/prady/.local/lib/python3.7/site-packages/sklearn/linear_model/base.py:297: RuntimeWarning: overflow encountered in exp\n",
      "  np.exp(prob, prob)\n",
      " 51%|█████▏    | 511/993 [14:06<09:15,  1.15s/it]/Users/prady/.local/lib/python3.7/site-packages/sklearn/linear_model/base.py:297: RuntimeWarning: overflow encountered in exp\n",
      "  np.exp(prob, prob)\n",
      " 52%|█████▏    | 520/993 [14:27<13:40,  1.73s/it]/Users/prady/.local/lib/python3.7/site-packages/sklearn/linear_model/base.py:297: RuntimeWarning: overflow encountered in exp\n",
      "  np.exp(prob, prob)\n",
      " 53%|█████▎    | 522/993 [14:37<22:47,  2.90s/it]/Users/prady/.local/lib/python3.7/site-packages/sklearn/linear_model/base.py:297: RuntimeWarning: overflow encountered in exp\n",
      "  np.exp(prob, prob)\n",
      " 53%|█████▎    | 528/993 [14:46<11:15,  1.45s/it]/Users/prady/.local/lib/python3.7/site-packages/sklearn/linear_model/base.py:297: RuntimeWarning: overflow encountered in exp\n",
      "  np.exp(prob, prob)\n",
      " 55%|█████▍    | 544/993 [15:01<04:10,  1.79it/s]/Users/prady/.local/lib/python3.7/site-packages/sklearn/linear_model/base.py:297: RuntimeWarning: overflow encountered in exp\n",
      "  np.exp(prob, prob)\n",
      " 55%|█████▌    | 548/993 [15:12<15:25,  2.08s/it]/Users/prady/.local/lib/python3.7/site-packages/sklearn/linear_model/base.py:297: RuntimeWarning: overflow encountered in exp\n",
      "  np.exp(prob, prob)\n",
      " 56%|█████▋    | 560/993 [15:29<06:30,  1.11it/s]/Users/prady/.local/lib/python3.7/site-packages/sklearn/linear_model/base.py:297: RuntimeWarning: overflow encountered in exp\n",
      "  np.exp(prob, prob)\n",
      " 59%|█████▊    | 583/993 [16:09<08:59,  1.32s/it]/Users/prady/.local/lib/python3.7/site-packages/sklearn/linear_model/base.py:297: RuntimeWarning: overflow encountered in exp\n",
      "  np.exp(prob, prob)\n",
      " 59%|█████▉    | 584/993 [16:15<18:34,  2.73s/it]/Users/prady/.local/lib/python3.7/site-packages/sklearn/linear_model/base.py:297: RuntimeWarning: overflow encountered in exp\n",
      "  np.exp(prob, prob)\n",
      " 60%|██████    | 600/993 [16:35<05:36,  1.17it/s]/Users/prady/.local/lib/python3.7/site-packages/sklearn/linear_model/base.py:297: RuntimeWarning: overflow encountered in exp\n",
      "  np.exp(prob, prob)\n",
      " 61%|██████    | 602/993 [16:44<16:39,  2.55s/it]/Users/prady/.local/lib/python3.7/site-packages/sklearn/linear_model/base.py:297: RuntimeWarning: overflow encountered in exp\n",
      "  np.exp(prob, prob)\n",
      " 61%|██████▏   | 610/993 [16:53<05:24,  1.18it/s]/Users/prady/.local/lib/python3.7/site-packages/sklearn/linear_model/base.py:297: RuntimeWarning: overflow encountered in exp\n",
      "  np.exp(prob, prob)\n",
      " 63%|██████▎   | 624/993 [17:19<07:52,  1.28s/it]/Users/prady/.local/lib/python3.7/site-packages/sklearn/linear_model/base.py:297: RuntimeWarning: overflow encountered in exp\n",
      "  np.exp(prob, prob)\n",
      " 63%|██████▎   | 625/993 [17:24<15:17,  2.49s/it]/Users/prady/.local/lib/python3.7/site-packages/sklearn/linear_model/base.py:297: RuntimeWarning: overflow encountered in exp\n",
      "  np.exp(prob, prob)\n",
      " 65%|██████▍   | 645/993 [17:48<08:14,  1.42s/it]/Users/prady/.local/lib/python3.7/site-packages/sklearn/linear_model/base.py:297: RuntimeWarning: overflow encountered in exp\n",
      "  np.exp(prob, prob)\n",
      " 66%|██████▌   | 653/993 [18:02<04:49,  1.17it/s]/Users/prady/.local/lib/python3.7/site-packages/sklearn/linear_model/base.py:297: RuntimeWarning: overflow encountered in exp\n",
      "  np.exp(prob, prob)\n",
      " 66%|██████▌   | 657/993 [18:12<08:38,  1.54s/it]/Users/prady/.local/lib/python3.7/site-packages/sklearn/linear_model/base.py:297: RuntimeWarning: overflow encountered in exp\n",
      "  np.exp(prob, prob)\n",
      " 67%|██████▋   | 668/993 [18:25<03:21,  1.61it/s]/Users/prady/.local/lib/python3.7/site-packages/sklearn/linear_model/base.py:297: RuntimeWarning: overflow encountered in exp\n",
      "  np.exp(prob, prob)\n",
      " 68%|██████▊   | 676/993 [18:36<08:49,  1.67s/it]/Users/prady/.local/lib/python3.7/site-packages/sklearn/linear_model/base.py:297: RuntimeWarning: overflow encountered in exp\n",
      "  np.exp(prob, prob)\n",
      " 68%|██████▊   | 680/993 [18:46<08:35,  1.65s/it]/Users/prady/.local/lib/python3.7/site-packages/sklearn/linear_model/base.py:297: RuntimeWarning: overflow encountered in exp\n",
      "  np.exp(prob, prob)\n",
      " 69%|██████▉   | 683/993 [19:01<17:39,  3.42s/it]/Users/prady/.local/lib/python3.7/site-packages/sklearn/linear_model/base.py:297: RuntimeWarning: overflow encountered in exp\n",
      "  np.exp(prob, prob)\n",
      " 69%|██████▉   | 690/993 [19:13<07:02,  1.40s/it]/Users/prady/.local/lib/python3.7/site-packages/sklearn/linear_model/base.py:297: RuntimeWarning: overflow encountered in exp\n",
      "  np.exp(prob, prob)\n",
      " 70%|███████   | 697/993 [19:29<10:24,  2.11s/it]/Users/prady/.local/lib/python3.7/site-packages/sklearn/linear_model/base.py:297: RuntimeWarning: overflow encountered in exp\n",
      "  np.exp(prob, prob)\n",
      " 70%|███████   | 699/993 [19:38<15:22,  3.14s/it]/Users/prady/.local/lib/python3.7/site-packages/sklearn/linear_model/base.py:297: RuntimeWarning: overflow encountered in exp\n",
      "  np.exp(prob, prob)\n",
      " 72%|███████▏  | 716/993 [19:58<04:16,  1.08it/s]/Users/prady/.local/lib/python3.7/site-packages/sklearn/linear_model/base.py:297: RuntimeWarning: overflow encountered in exp\n",
      "  np.exp(prob, prob)\n",
      " 74%|███████▍  | 735/993 [20:26<03:23,  1.27it/s]/Users/prady/.local/lib/python3.7/site-packages/sklearn/linear_model/base.py:297: RuntimeWarning: overflow encountered in exp\n",
      "  np.exp(prob, prob)\n",
      " 76%|███████▌  | 751/993 [20:50<09:25,  2.34s/it]/Users/prady/.local/lib/python3.7/site-packages/sklearn/linear_model/base.py:297: RuntimeWarning: overflow encountered in exp\n",
      "  np.exp(prob, prob)\n",
      " 77%|███████▋  | 763/993 [21:12<05:15,  1.37s/it]/Users/prady/.local/lib/python3.7/site-packages/sklearn/linear_model/base.py:297: RuntimeWarning: overflow encountered in exp\n",
      "  np.exp(prob, prob)\n",
      " 78%|███████▊  | 774/993 [21:25<02:52,  1.27it/s]/Users/prady/.local/lib/python3.7/site-packages/sklearn/linear_model/base.py:297: RuntimeWarning: overflow encountered in exp\n",
      "  np.exp(prob, prob)\n",
      " 78%|███████▊  | 776/993 [21:32<06:16,  1.74s/it]/Users/prady/.local/lib/python3.7/site-packages/sklearn/linear_model/base.py:297: RuntimeWarning: overflow encountered in exp\n",
      "  np.exp(prob, prob)\n",
      " 79%|███████▉  | 787/993 [21:53<06:45,  1.97s/it]/Users/prady/.local/lib/python3.7/site-packages/sklearn/linear_model/base.py:297: RuntimeWarning: overflow encountered in exp\n",
      "  np.exp(prob, prob)\n",
      " 85%|████████▍ | 840/993 [23:31<01:39,  1.54it/s]/Users/prady/.local/lib/python3.7/site-packages/sklearn/linear_model/base.py:297: RuntimeWarning: overflow encountered in exp\n",
      "  np.exp(prob, prob)\n",
      " 85%|████████▍ | 842/993 [23:38<04:16,  1.70s/it]/Users/prady/.local/lib/python3.7/site-packages/sklearn/linear_model/base.py:297: RuntimeWarning: overflow encountered in exp\n",
      "  np.exp(prob, prob)\n",
      " 85%|████████▌ | 846/993 [23:44<02:58,  1.21s/it]/Users/prady/.local/lib/python3.7/site-packages/sklearn/linear_model/base.py:297: RuntimeWarning: overflow encountered in exp\n",
      "  np.exp(prob, prob)\n",
      " 86%|████████▌ | 853/993 [23:59<05:43,  2.45s/it]/Users/prady/.local/lib/python3.7/site-packages/sklearn/linear_model/base.py:297: RuntimeWarning: overflow encountered in exp\n",
      "  np.exp(prob, prob)\n",
      " 87%|████████▋ | 868/993 [24:17<01:49,  1.14it/s]/Users/prady/.local/lib/python3.7/site-packages/sklearn/linear_model/base.py:297: RuntimeWarning: overflow encountered in exp\n",
      "  np.exp(prob, prob)\n",
      " 88%|████████▊ | 877/993 [24:37<02:37,  1.36s/it]/Users/prady/.local/lib/python3.7/site-packages/sklearn/linear_model/base.py:297: RuntimeWarning: overflow encountered in exp\n",
      "  np.exp(prob, prob)\n",
      " 89%|████████▊ | 881/993 [24:43<02:11,  1.17s/it]/Users/prady/.local/lib/python3.7/site-packages/sklearn/linear_model/base.py:297: RuntimeWarning: overflow encountered in exp\n",
      "  np.exp(prob, prob)\n",
      " 89%|████████▉ | 883/993 [24:51<04:28,  2.44s/it]/Users/prady/.local/lib/python3.7/site-packages/sklearn/linear_model/base.py:297: RuntimeWarning: overflow encountered in exp\n",
      "  np.exp(prob, prob)\n"
     ]
    },
    {
     "name": "stderr",
     "output_type": "stream",
     "text": [
      " 91%|█████████ | 905/993 [25:37<03:13,  2.20s/it]/Users/prady/.local/lib/python3.7/site-packages/sklearn/linear_model/base.py:297: RuntimeWarning: overflow encountered in exp\n",
      "  np.exp(prob, prob)\n",
      " 92%|█████████▏| 916/993 [25:56<02:26,  1.90s/it]/Users/prady/.local/lib/python3.7/site-packages/sklearn/linear_model/base.py:297: RuntimeWarning: overflow encountered in exp\n",
      "  np.exp(prob, prob)\n",
      " 93%|█████████▎| 926/993 [26:12<00:51,  1.29it/s]/Users/prady/.local/lib/python3.7/site-packages/sklearn/linear_model/base.py:297: RuntimeWarning: overflow encountered in exp\n",
      "  np.exp(prob, prob)\n",
      " 94%|█████████▍| 936/993 [26:23<00:45,  1.26it/s]/Users/prady/.local/lib/python3.7/site-packages/sklearn/linear_model/base.py:297: RuntimeWarning: overflow encountered in exp\n",
      "  np.exp(prob, prob)\n",
      " 97%|█████████▋| 967/993 [26:56<00:19,  1.36it/s]/Users/prady/.local/lib/python3.7/site-packages/sklearn/linear_model/base.py:297: RuntimeWarning: overflow encountered in exp\n",
      "  np.exp(prob, prob)\n",
      " 98%|█████████▊| 969/993 [27:02<00:35,  1.46s/it]/Users/prady/.local/lib/python3.7/site-packages/sklearn/linear_model/base.py:297: RuntimeWarning: overflow encountered in exp\n",
      "  np.exp(prob, prob)\n",
      " 98%|█████████▊| 975/993 [27:14<00:23,  1.31s/it]/Users/prady/.local/lib/python3.7/site-packages/sklearn/linear_model/base.py:297: RuntimeWarning: overflow encountered in exp\n",
      "  np.exp(prob, prob)\n",
      " 99%|█████████▉| 984/993 [27:34<00:12,  1.43s/it]/Users/prady/.local/lib/python3.7/site-packages/sklearn/linear_model/base.py:297: RuntimeWarning: overflow encountered in exp\n",
      "  np.exp(prob, prob)\n",
      "100%|██████████| 993/993 [27:43<00:00,  1.68s/it]\n",
      "  2%|▏         | 21/1000 [00:00<00:04, 205.78it/s]"
     ]
    },
    {
     "name": "stdout",
     "output_type": "stream",
     "text": [
      "completed in 1689.6086840629578\n",
      "21 out of 50\n",
      "../../rawdata/Business/business_controversial.csv\n"
     ]
    },
    {
     "name": "stderr",
     "output_type": "stream",
     "text": [
      "100%|██████████| 1000/1000 [00:04<00:00, 216.01it/s]\n",
      "100%|██████████| 1000/1000 [01:28<00:00, 11.30it/s]\n",
      "100%|██████████| 23/23 [00:00<00:00, 208.10it/s]\n",
      "  0%|          | 0/23 [00:00<?, ?it/s]"
     ]
    },
    {
     "name": "stdout",
     "output_type": "stream",
     "text": [
      "completed in 93.84876799583435\n",
      "22 out of 50\n",
      "../../rawdata/Business/business_rising.csv\n"
     ]
    },
    {
     "name": "stderr",
     "output_type": "stream",
     "text": [
      "100%|██████████| 23/23 [00:01<00:00, 12.29it/s]\n",
      " 11%|█         | 16/149 [00:00<00:00, 154.24it/s]"
     ]
    },
    {
     "name": "stdout",
     "output_type": "stream",
     "text": [
      "completed in 2.3542888164520264\n",
      "23 out of 50\n",
      "../../rawdata/Business/business_new.csv\n"
     ]
    },
    {
     "name": "stderr",
     "output_type": "stream",
     "text": [
      "100%|██████████| 149/149 [00:00<00:00, 180.19it/s]\n",
      "100%|██████████| 149/149 [00:23<00:00,  6.29it/s]\n",
      "  2%|▏         | 20/994 [00:00<00:04, 198.37it/s]"
     ]
    },
    {
     "name": "stdout",
     "output_type": "stream",
     "text": [
      "completed in 24.99462127685547\n",
      "24 out of 50\n",
      "../../rawdata/Business/business_top.csv\n"
     ]
    },
    {
     "name": "stderr",
     "output_type": "stream",
     "text": [
      "100%|██████████| 994/994 [00:04<00:00, 209.47it/s]\n",
      "100%|██████████| 994/994 [01:22<00:00, 12.00it/s]\n",
      "  9%|▊         | 20/234 [00:00<00:01, 188.16it/s]"
     ]
    },
    {
     "name": "stdout",
     "output_type": "stream",
     "text": [
      "completed in 88.26550817489624\n",
      "25 out of 50\n",
      "../../rawdata/Business/business_hot.csv\n"
     ]
    },
    {
     "name": "stderr",
     "output_type": "stream",
     "text": [
      "100%|██████████| 234/234 [00:01<00:00, 189.48it/s]\n",
      "100%|██████████| 234/234 [00:37<00:00,  6.18it/s]\n",
      " 29%|██▉       | 7/24 [00:00<00:00, 68.72it/s]"
     ]
    },
    {
     "name": "stdout",
     "output_type": "stream",
     "text": [
      "completed in 39.93836498260498\n",
      "26 out of 50\n",
      "../../rawdata/Smallbusiness/smallbusiness_rising.csv\n"
     ]
    },
    {
     "name": "stderr",
     "output_type": "stream",
     "text": [
      "100%|██████████| 24/24 [00:00<00:00, 96.91it/s]\n",
      "100%|██████████| 24/24 [00:11<00:00,  2.04it/s]\n",
      "  2%|▏         | 15/1000 [00:00<00:06, 142.30it/s]"
     ]
    },
    {
     "name": "stdout",
     "output_type": "stream",
     "text": [
      "completed in 12.465172052383423\n",
      "27 out of 50\n",
      "../../rawdata/Smallbusiness/smallbusiness_controversial.csv\n"
     ]
    },
    {
     "name": "stderr",
     "output_type": "stream",
     "text": [
      "100%|██████████| 1000/1000 [00:08<00:00, 115.33it/s]\n",
      " 11%|█▏        | 113/1000 [00:37<02:53,  5.10it/s]/Users/prady/.local/lib/python3.7/site-packages/sklearn/linear_model/base.py:297: RuntimeWarning: overflow encountered in exp\n",
      "  np.exp(prob, prob)\n",
      "100%|█████████▉| 997/1000 [05:36<00:00,  5.35it/s]/Users/prady/.local/lib/python3.7/site-packages/sklearn/linear_model/base.py:297: RuntimeWarning: overflow encountered in exp\n",
      "  np.exp(prob, prob)\n",
      "100%|██████████| 1000/1000 [05:42<00:00,  2.92it/s]\n",
      "  2%|▏         | 16/992 [00:00<00:07, 137.30it/s]"
     ]
    },
    {
     "name": "stdout",
     "output_type": "stream",
     "text": [
      "completed in 353.2127161026001\n",
      "28 out of 50\n",
      "../../rawdata/Smallbusiness/smallbusiness_hot.csv\n"
     ]
    },
    {
     "name": "stderr",
     "output_type": "stream",
     "text": [
      "100%|██████████| 992/992 [00:06<00:00, 146.39it/s]\n",
      "100%|██████████| 992/992 [05:20<00:00,  3.10it/s]\n",
      "  1%|▏         | 14/985 [00:00<00:07, 137.24it/s]"
     ]
    },
    {
     "name": "stdout",
     "output_type": "stream",
     "text": [
      "completed in 328.5312428474426\n",
      "29 out of 50\n",
      "../../rawdata/Smallbusiness/smallbusiness_new.csv\n"
     ]
    },
    {
     "name": "stderr",
     "output_type": "stream",
     "text": [
      "100%|██████████| 985/985 [00:07<00:00, 137.19it/s]\n",
      "100%|██████████| 985/985 [05:27<00:00,  3.01it/s]\n",
      "  0%|          | 0/999 [00:00<?, ?it/s]"
     ]
    },
    {
     "name": "stdout",
     "output_type": "stream",
     "text": [
      "completed in 335.81929111480713\n",
      "30 out of 50\n",
      "../../rawdata/Smallbusiness/smallbusiness_top.csv\n"
     ]
    },
    {
     "name": "stderr",
     "output_type": "stream",
     "text": [
      "100%|██████████| 999/999 [00:09<00:00, 102.03it/s]\n",
      "  1%|          | 8/999 [00:04<10:03,  1.64it/s]/Users/prady/.local/lib/python3.7/site-packages/sklearn/linear_model/base.py:297: RuntimeWarning: overflow encountered in exp\n",
      "  np.exp(prob, prob)\n",
      "  1%|          | 9/999 [00:11<40:30,  2.45s/it]/Users/prady/.local/lib/python3.7/site-packages/sklearn/linear_model/base.py:297: RuntimeWarning: overflow encountered in exp\n",
      "  np.exp(prob, prob)\n",
      " 27%|██▋       | 272/999 [03:07<05:00,  2.42it/s]/Users/prady/.local/lib/python3.7/site-packages/sklearn/linear_model/base.py:297: RuntimeWarning: overflow encountered in exp\n",
      "  np.exp(prob, prob)\n",
      " 33%|███▎      | 328/999 [03:36<04:20,  2.57it/s]/Users/prady/.local/lib/python3.7/site-packages/sklearn/linear_model/base.py:297: RuntimeWarning: overflow encountered in exp\n",
      "  np.exp(prob, prob)\n",
      " 59%|█████▉    | 594/999 [05:42<05:30,  1.23it/s]/Users/prady/.local/lib/python3.7/site-packages/sklearn/linear_model/base.py:297: RuntimeWarning: overflow encountered in exp\n",
      "  np.exp(prob, prob)\n",
      "100%|██████████| 999/999 [09:40<00:00,  1.72it/s]\n",
      "  2%|▏         | 14/622 [00:00<00:04, 139.71it/s]"
     ]
    },
    {
     "name": "stdout",
     "output_type": "stream",
     "text": [
      "completed in 592.1795530319214\n",
      "31 out of 50\n",
      "../../rawdata/Growmybusiness/growmybusiness_hot.csv\n"
     ]
    },
    {
     "name": "stderr",
     "output_type": "stream",
     "text": [
      "100%|██████████| 622/622 [00:04<00:00, 148.63it/s]\n",
      "100%|██████████| 622/622 [03:36<00:00,  2.87it/s]\n",
      "  1%|▏         | 12/956 [00:00<00:08, 115.70it/s]"
     ]
    },
    {
     "name": "stdout",
     "output_type": "stream",
     "text": [
      "completed in 221.99511194229126\n",
      "32 out of 50\n",
      "../../rawdata/Growmybusiness/growmybusiness_new.csv\n"
     ]
    },
    {
     "name": "stderr",
     "output_type": "stream",
     "text": [
      "100%|██████████| 956/956 [00:06<00:00, 147.12it/s]\n",
      " 97%|█████████▋| 927/956 [05:11<00:10,  2.81it/s]/Users/prady/.local/lib/python3.7/site-packages/sklearn/linear_model/base.py:297: RuntimeWarning: overflow encountered in exp\n",
      "  np.exp(prob, prob)\n",
      "100%|██████████| 956/956 [05:27<00:00,  2.92it/s]\n",
      "  0%|          | 0/999 [00:00<?, ?it/s]"
     ]
    },
    {
     "name": "stdout",
     "output_type": "stream",
     "text": [
      "completed in 335.76973009109497\n",
      "33 out of 50\n",
      "../../rawdata/Growmybusiness/growmybusiness_top.csv\n"
     ]
    },
    {
     "name": "stderr",
     "output_type": "stream",
     "text": [
      "100%|██████████| 999/999 [00:08<00:00, 122.25it/s]\n",
      " 27%|██▋       | 269/999 [01:40<02:46,  4.40it/s]/Users/prady/.local/lib/python3.7/site-packages/sklearn/linear_model/base.py:297: RuntimeWarning: overflow encountered in exp\n",
      "  np.exp(prob, prob)\n",
      " 50%|████▉     | 495/999 [03:05<07:41,  1.09it/s]/Users/prady/.local/lib/python3.7/site-packages/sklearn/linear_model/base.py:297: RuntimeWarning: overflow encountered in exp\n",
      "  np.exp(prob, prob)\n",
      " 96%|█████████▋| 964/999 [59:27<33:23, 57.25s/it]    /Users/prady/.local/lib/python3.7/site-packages/sklearn/linear_model/base.py:297: RuntimeWarning: overflow encountered in exp\n",
      "  np.exp(prob, prob)\n",
      "100%|██████████| 999/999 [59:47<00:00,  3.59s/it]\n",
      "100%|██████████| 16/16 [00:00<00:00, 121.58it/s]\n",
      "  0%|          | 0/16 [00:00<?, ?it/s]"
     ]
    },
    {
     "name": "stdout",
     "output_type": "stream",
     "text": [
      "completed in 3597.3223989009857\n",
      "34 out of 50\n",
      "../../rawdata/Growmybusiness/growmybusiness_rising.csv\n"
     ]
    },
    {
     "name": "stderr",
     "output_type": "stream",
     "text": [
      "100%|██████████| 16/16 [00:04<00:00,  3.73it/s]\n",
      "  0%|          | 0/944 [00:00<?, ?it/s]"
     ]
    },
    {
     "name": "stdout",
     "output_type": "stream",
     "text": [
      "completed in 4.791272878646851\n",
      "35 out of 50\n",
      "../../rawdata/Growmybusiness/growmybusiness_controversial.csv\n"
     ]
    },
    {
     "name": "stderr",
     "output_type": "stream",
     "text": [
      "100%|██████████| 944/944 [00:06<00:00, 135.57it/s]\n",
      " 27%|██▋       | 256/944 [01:44<02:05,  5.49it/s]/Users/prady/.local/lib/python3.7/site-packages/sklearn/linear_model/base.py:297: RuntimeWarning: overflow encountered in exp\n",
      "  np.exp(prob, prob)\n",
      " 96%|█████████▌| 906/944 [05:24<00:15,  2.53it/s]/Users/prady/.local/lib/python3.7/site-packages/sklearn/linear_model/base.py:297: RuntimeWarning: overflow encountered in exp\n",
      "  np.exp(prob, prob)\n",
      "100%|██████████| 944/944 [05:44<00:00,  2.74it/s]\n",
      "100%|██████████| 7/7 [00:00<00:00, 149.74it/s]\n",
      " 14%|█▍        | 1/7 [00:00<00:00,  8.34it/s]"
     ]
    },
    {
     "name": "stdout",
     "output_type": "stream",
     "text": [
      "completed in 353.63845014572144\n",
      "36 out of 50\n",
      "../../rawdata/Startup_ideas/startup_ideas_rising.csv\n"
     ]
    },
    {
     "name": "stderr",
     "output_type": "stream",
     "text": [
      "100%|██████████| 7/7 [00:01<00:00,  5.81it/s]\n",
      "  3%|▎         | 14/529 [00:00<00:03, 136.31it/s]"
     ]
    },
    {
     "name": "stdout",
     "output_type": "stream",
     "text": [
      "completed in 1.6099369525909424\n",
      "37 out of 50\n",
      "../../rawdata/Startup_ideas/startup_ideas_hot.csv\n"
     ]
    },
    {
     "name": "stderr",
     "output_type": "stream",
     "text": [
      "100%|██████████| 529/529 [00:03<00:00, 134.19it/s]\n",
      "100%|██████████| 529/529 [02:52<00:00,  3.07it/s]\n",
      "  1%|▏         | 13/940 [00:00<00:07, 124.18it/s]"
     ]
    },
    {
     "name": "stdout",
     "output_type": "stream",
     "text": [
      "completed in 177.20469307899475\n",
      "38 out of 50\n",
      "../../rawdata/Startup_ideas/startup_ideas_controversial.csv\n"
     ]
    },
    {
     "name": "stderr",
     "output_type": "stream",
     "text": [
      "100%|██████████| 940/940 [00:06<00:00, 134.45it/s]\n",
      "100%|██████████| 940/940 [05:06<00:00,  3.06it/s]\n",
      "  1%|▏         | 14/999 [00:00<00:07, 137.92it/s]"
     ]
    },
    {
     "name": "stdout",
     "output_type": "stream",
     "text": [
      "completed in 315.551216840744\n",
      "39 out of 50\n",
      "../../rawdata/Startup_ideas/startup_ideas_top.csv\n"
     ]
    },
    {
     "name": "stderr",
     "output_type": "stream",
     "text": [
      "100%|██████████| 999/999 [00:06<00:00, 146.47it/s]\n",
      "100%|██████████| 999/999 [05:11<00:00,  3.21it/s]\n",
      "  1%|▏         | 14/995 [00:00<00:07, 136.49it/s]"
     ]
    },
    {
     "name": "stdout",
     "output_type": "stream",
     "text": [
      "completed in 319.9115068912506\n",
      "40 out of 50\n",
      "../../rawdata/Startup_ideas/startup_ideas_new.csv\n"
     ]
    },
    {
     "name": "stderr",
     "output_type": "stream",
     "text": [
      "100%|██████████| 995/995 [00:06<00:00, 153.01it/s]\n",
      "100%|██████████| 995/995 [05:08<00:00,  3.23it/s]\n",
      "  2%|▏         | 18/813 [00:00<00:04, 175.42it/s]"
     ]
    },
    {
     "name": "stdout",
     "output_type": "stream",
     "text": [
      "completed in 316.3389849662781\n",
      "41 out of 50\n",
      "../../rawdata/Ladybusiness/ladybusiness_new.csv\n"
     ]
    },
    {
     "name": "stderr",
     "output_type": "stream",
     "text": [
      "100%|██████████| 813/813 [00:04<00:00, 178.97it/s]\n",
      "100%|██████████| 813/813 [18:41<00:00,  1.38s/it]   \n",
      "  1%|▏         | 13/916 [00:00<00:06, 129.96it/s]"
     ]
    },
    {
     "name": "stdout",
     "output_type": "stream",
     "text": [
      "completed in 1127.6013178825378\n",
      "42 out of 50\n",
      "../../rawdata/Ladybusiness/ladybusiness_top.csv\n"
     ]
    },
    {
     "name": "stderr",
     "output_type": "stream",
     "text": [
      "100%|██████████| 916/916 [00:05<00:00, 158.15it/s]\n",
      "100%|██████████| 916/916 [03:06<00:00,  4.92it/s]\n",
      "100%|██████████| 23/23 [00:00<00:00, 134.28it/s]\n",
      "  0%|          | 0/23 [00:00<?, ?it/s]"
     ]
    },
    {
     "name": "stdout",
     "output_type": "stream",
     "text": [
      "completed in 192.9261350631714\n",
      "43 out of 50\n",
      "../../rawdata/Ladybusiness/ladybusiness_rising.csv\n"
     ]
    },
    {
     "name": "stderr",
     "output_type": "stream",
     "text": [
      "100%|██████████| 23/23 [00:06<00:00,  3.36it/s]\n",
      "  2%|▏         | 13/688 [00:00<00:05, 124.23it/s]"
     ]
    },
    {
     "name": "stdout",
     "output_type": "stream",
     "text": [
      "completed in 7.407363653182983\n",
      "44 out of 50\n",
      "../../rawdata/Ladybusiness/ladybusiness_controversial.csv\n"
     ]
    },
    {
     "name": "stderr",
     "output_type": "stream",
     "text": [
      "100%|██████████| 688/688 [00:03<00:00, 175.20it/s]\n",
      "100%|██████████| 688/688 [02:21<00:00,  4.87it/s]\n",
      "  3%|▎         | 17/673 [00:00<00:03, 164.07it/s]"
     ]
    },
    {
     "name": "stdout",
     "output_type": "stream",
     "text": [
      "completed in 146.5443480014801\n",
      "45 out of 50\n",
      "../../rawdata/Ladybusiness/ladybusiness_hot.csv\n"
     ]
    },
    {
     "name": "stderr",
     "output_type": "stream",
     "text": [
      "100%|██████████| 673/673 [00:04<00:00, 166.89it/s]\n",
      "100%|██████████| 673/673 [02:16<00:00,  4.92it/s]\n"
     ]
    },
    {
     "name": "stdout",
     "output_type": "stream",
     "text": [
      "completed in 141.85762214660645\n",
      "46 out of 50\n",
      "../../rawdata/entrepreneur/entrepreneur_top.csv\n"
     ]
    },
    {
     "name": "stderr",
     "output_type": "stream",
     "text": [
      "100%|██████████| 998/998 [00:19<00:00, 50.80it/s]\n",
      "  0%|          | 2/998 [00:00<09:53,  1.68it/s]/Users/prady/.local/lib/python3.7/site-packages/sklearn/linear_model/base.py:297: RuntimeWarning: overflow encountered in exp\n",
      "  np.exp(prob, prob)\n",
      "  1%|          | 5/998 [00:06<18:01,  1.09s/it]/Users/prady/.local/lib/python3.7/site-packages/sklearn/linear_model/base.py:297: RuntimeWarning: overflow encountered in exp\n",
      "  np.exp(prob, prob)\n",
      "  6%|▌         | 59/998 [01:14<16:28,  1.05s/it]/Users/prady/.local/lib/python3.7/site-packages/sklearn/linear_model/base.py:297: RuntimeWarning: overflow encountered in exp\n",
      "  np.exp(prob, prob)\n",
      "  9%|▉         | 88/998 [01:44<16:32,  1.09s/it]/Users/prady/.local/lib/python3.7/site-packages/sklearn/linear_model/base.py:297: RuntimeWarning: overflow encountered in exp\n",
      "  np.exp(prob, prob)\n",
      "  9%|▉         | 91/998 [01:51<19:18,  1.28s/it]/Users/prady/.local/lib/python3.7/site-packages/sklearn/linear_model/base.py:297: RuntimeWarning: overflow encountered in exp\n",
      "  np.exp(prob, prob)\n",
      " 11%|█         | 110/998 [02:23<20:56,  1.42s/it]/Users/prady/.local/lib/python3.7/site-packages/sklearn/linear_model/base.py:297: RuntimeWarning: overflow encountered in exp\n",
      "  np.exp(prob, prob)\n",
      " 12%|█▏        | 118/998 [02:37<15:00,  1.02s/it]/Users/prady/.local/lib/python3.7/site-packages/sklearn/linear_model/base.py:297: RuntimeWarning: overflow encountered in exp\n",
      "  np.exp(prob, prob)\n",
      " 13%|█▎        | 127/998 [02:51<15:31,  1.07s/it]/Users/prady/.local/lib/python3.7/site-packages/sklearn/linear_model/base.py:297: RuntimeWarning: overflow encountered in exp\n",
      "  np.exp(prob, prob)\n",
      " 17%|█▋        | 173/998 [03:45<19:06,  1.39s/it]/Users/prady/.local/lib/python3.7/site-packages/sklearn/linear_model/base.py:297: RuntimeWarning: overflow encountered in exp\n",
      "  np.exp(prob, prob)\n",
      " 19%|█▉        | 190/998 [04:11<13:42,  1.02s/it]/Users/prady/.local/lib/python3.7/site-packages/sklearn/linear_model/base.py:297: RuntimeWarning: overflow encountered in exp\n",
      "  np.exp(prob, prob)\n",
      " 22%|██▏       | 217/998 [04:52<15:36,  1.20s/it]/Users/prady/.local/lib/python3.7/site-packages/sklearn/linear_model/base.py:297: RuntimeWarning: overflow encountered in exp\n",
      "  np.exp(prob, prob)\n",
      " 25%|██▍       | 245/998 [05:25<25:13,  2.01s/it]/Users/prady/.local/lib/python3.7/site-packages/sklearn/linear_model/base.py:297: RuntimeWarning: overflow encountered in exp\n",
      "  np.exp(prob, prob)\n",
      " 27%|██▋       | 270/998 [06:00<11:45,  1.03it/s]/Users/prady/.local/lib/python3.7/site-packages/sklearn/linear_model/base.py:297: RuntimeWarning: overflow encountered in exp\n",
      "  np.exp(prob, prob)\n",
      " 29%|██▉       | 288/998 [06:25<19:47,  1.67s/it]/Users/prady/.local/lib/python3.7/site-packages/sklearn/linear_model/base.py:297: RuntimeWarning: overflow encountered in exp\n",
      "  np.exp(prob, prob)\n",
      " 33%|███▎      | 327/998 [07:20<12:42,  1.14s/it]/Users/prady/.local/lib/python3.7/site-packages/sklearn/linear_model/base.py:297: RuntimeWarning: overflow encountered in exp\n",
      "  np.exp(prob, prob)\n",
      " 34%|███▍      | 338/998 [07:37<19:32,  1.78s/it]/Users/prady/.local/lib/python3.7/site-packages/sklearn/linear_model/base.py:297: RuntimeWarning: overflow encountered in exp\n",
      "  np.exp(prob, prob)\n",
      " 35%|███▌      | 351/998 [07:57<07:23,  1.46it/s]/Users/prady/.local/lib/python3.7/site-packages/sklearn/linear_model/base.py:297: RuntimeWarning: overflow encountered in exp\n",
      "  np.exp(prob, prob)\n",
      " 35%|███▌      | 352/998 [08:06<33:28,  3.11s/it]/Users/prady/.local/lib/python3.7/site-packages/sklearn/linear_model/base.py:297: RuntimeWarning: overflow encountered in exp\n",
      "  np.exp(prob, prob)\n",
      " 35%|███▌      | 353/998 [08:10<36:34,  3.40s/it]/Users/prady/.local/lib/python3.7/site-packages/sklearn/linear_model/base.py:297: RuntimeWarning: overflow encountered in exp\n",
      "  np.exp(prob, prob)\n",
      " 36%|███▌      | 357/998 [08:16<25:02,  2.34s/it]/Users/prady/.local/lib/python3.7/site-packages/sklearn/linear_model/base.py:297: RuntimeWarning: overflow encountered in exp\n",
      "  np.exp(prob, prob)\n",
      " 38%|███▊      | 384/998 [08:52<11:57,  1.17s/it]/Users/prady/.local/lib/python3.7/site-packages/sklearn/linear_model/base.py:297: RuntimeWarning: overflow encountered in exp\n",
      "  np.exp(prob, prob)\n",
      " 41%|████      | 405/998 [10:05<08:40,  1.14it/s]  /Users/prady/.local/lib/python3.7/site-packages/sklearn/linear_model/base.py:297: RuntimeWarning: overflow encountered in exp\n",
      "  np.exp(prob, prob)\n",
      " 42%|████▏     | 419/998 [10:34<18:12,  1.89s/it]/Users/prady/.local/lib/python3.7/site-packages/sklearn/linear_model/base.py:297: RuntimeWarning: overflow encountered in exp\n",
      "  np.exp(prob, prob)\n",
      " 43%|████▎     | 432/998 [10:55<16:42,  1.77s/it]/Users/prady/.local/lib/python3.7/site-packages/sklearn/linear_model/base.py:297: RuntimeWarning: overflow encountered in exp\n",
      "  np.exp(prob, prob)\n",
      " 46%|████▌     | 460/998 [11:32<12:08,  1.35s/it]/Users/prady/.local/lib/python3.7/site-packages/sklearn/linear_model/base.py:297: RuntimeWarning: overflow encountered in exp\n",
      "  np.exp(prob, prob)\n",
      " 47%|████▋     | 470/998 [11:41<04:23,  2.00it/s]/Users/prady/.local/lib/python3.7/site-packages/sklearn/linear_model/base.py:297: RuntimeWarning: overflow encountered in exp\n",
      "  np.exp(prob, prob)\n",
      " 48%|████▊     | 477/998 [11:54<10:51,  1.25s/it]/Users/prady/.local/lib/python3.7/site-packages/sklearn/linear_model/base.py:297: RuntimeWarning: overflow encountered in exp\n",
      "  np.exp(prob, prob)\n",
      " 49%|████▊     | 485/998 [12:10<09:06,  1.07s/it]/Users/prady/.local/lib/python3.7/site-packages/sklearn/linear_model/base.py:297: RuntimeWarning: overflow encountered in exp\n",
      "  np.exp(prob, prob)\n",
      " 49%|████▉     | 488/998 [12:15<13:24,  1.58s/it]/Users/prady/.local/lib/python3.7/site-packages/sklearn/linear_model/base.py:297: RuntimeWarning: overflow encountered in exp\n",
      "  np.exp(prob, prob)\n",
      " 49%|████▉     | 489/998 [12:24<31:19,  3.69s/it]/Users/prady/.local/lib/python3.7/site-packages/sklearn/linear_model/base.py:297: RuntimeWarning: overflow encountered in exp\n",
      "  np.exp(prob, prob)\n",
      " 51%|█████     | 507/998 [12:55<10:24,  1.27s/it]/Users/prady/.local/lib/python3.7/site-packages/sklearn/linear_model/base.py:297: RuntimeWarning: overflow encountered in exp\n",
      "  np.exp(prob, prob)\n",
      " 51%|█████     | 508/998 [13:02<25:22,  3.11s/it]/Users/prady/.local/lib/python3.7/site-packages/sklearn/linear_model/base.py:297: RuntimeWarning: overflow encountered in exp\n",
      "  np.exp(prob, prob)\n",
      " 55%|█████▍    | 545/998 [13:45<06:34,  1.15it/s]/Users/prady/.local/lib/python3.7/site-packages/sklearn/linear_model/base.py:297: RuntimeWarning: overflow encountered in exp\n",
      "  np.exp(prob, prob)\n",
      " 59%|█████▊    | 585/998 [14:29<06:18,  1.09it/s]/Users/prady/.local/lib/python3.7/site-packages/sklearn/linear_model/base.py:297: RuntimeWarning: overflow encountered in exp\n",
      "  np.exp(prob, prob)\n",
      " 59%|█████▉    | 592/998 [14:45<09:57,  1.47s/it]/Users/prady/.local/lib/python3.7/site-packages/sklearn/linear_model/base.py:297: RuntimeWarning: overflow encountered in exp\n",
      "  np.exp(prob, prob)\n",
      " 61%|██████    | 610/998 [15:13<11:56,  1.85s/it]/Users/prady/.local/lib/python3.7/site-packages/sklearn/linear_model/base.py:297: RuntimeWarning: overflow encountered in exp\n",
      "  np.exp(prob, prob)\n",
      " 63%|██████▎   | 628/998 [15:40<03:28,  1.77it/s]/Users/prady/.local/lib/python3.7/site-packages/sklearn/linear_model/base.py:297: RuntimeWarning: overflow encountered in exp\n",
      "  np.exp(prob, prob)\n",
      " 63%|██████▎   | 629/998 [15:48<17:34,  2.86s/it]/Users/prady/.local/lib/python3.7/site-packages/sklearn/linear_model/base.py:297: RuntimeWarning: overflow encountered in exp\n",
      "  np.exp(prob, prob)\n",
      " 63%|██████▎   | 633/998 [15:57<10:51,  1.78s/it]/Users/prady/.local/lib/python3.7/site-packages/sklearn/linear_model/base.py:297: RuntimeWarning: overflow encountered in exp\n",
      "  np.exp(prob, prob)\n",
      " 65%|██████▌   | 649/998 [16:22<05:10,  1.13it/s]/Users/prady/.local/lib/python3.7/site-packages/sklearn/linear_model/base.py:297: RuntimeWarning: overflow encountered in exp\n",
      "  np.exp(prob, prob)\n",
      " 66%|██████▌   | 654/998 [16:32<08:20,  1.45s/it]/Users/prady/.local/lib/python3.7/site-packages/sklearn/linear_model/base.py:297: RuntimeWarning: overflow encountered in exp\n",
      "  np.exp(prob, prob)\n",
      " 66%|██████▌   | 658/998 [16:42<10:06,  1.78s/it]/Users/prady/.local/lib/python3.7/site-packages/sklearn/linear_model/base.py:297: RuntimeWarning: overflow encountered in exp\n",
      "  np.exp(prob, prob)\n"
     ]
    },
    {
     "name": "stderr",
     "output_type": "stream",
     "text": [
      " 66%|██████▌   | 659/998 [16:47<15:35,  2.76s/it]/Users/prady/.local/lib/python3.7/site-packages/sklearn/linear_model/base.py:297: RuntimeWarning: overflow encountered in exp\n",
      "  np.exp(prob, prob)\n",
      " 67%|██████▋   | 666/998 [16:59<05:07,  1.08it/s]/Users/prady/.local/lib/python3.7/site-packages/sklearn/linear_model/base.py:297: RuntimeWarning: overflow encountered in exp\n",
      "  np.exp(prob, prob)\n",
      " 68%|██████▊   | 678/998 [17:14<02:45,  1.94it/s]/Users/prady/.local/lib/python3.7/site-packages/sklearn/linear_model/base.py:297: RuntimeWarning: overflow encountered in exp\n",
      "  np.exp(prob, prob)\n",
      " 69%|██████▉   | 692/998 [17:26<04:10,  1.22it/s]/Users/prady/.local/lib/python3.7/site-packages/sklearn/linear_model/base.py:297: RuntimeWarning: overflow encountered in exp\n",
      "  np.exp(prob, prob)\n",
      " 70%|███████   | 702/998 [17:39<03:20,  1.47it/s]/Users/prady/.local/lib/python3.7/site-packages/sklearn/linear_model/base.py:297: RuntimeWarning: overflow encountered in exp\n",
      "  np.exp(prob, prob)\n",
      " 73%|███████▎  | 730/998 [18:03<03:25,  1.31it/s]/Users/prady/.local/lib/python3.7/site-packages/sklearn/linear_model/base.py:297: RuntimeWarning: overflow encountered in exp\n",
      "  np.exp(prob, prob)\n",
      " 74%|███████▍  | 741/998 [18:24<08:18,  1.94s/it]/Users/prady/.local/lib/python3.7/site-packages/sklearn/linear_model/base.py:297: RuntimeWarning: overflow encountered in exp\n",
      "  np.exp(prob, prob)\n",
      " 74%|███████▍  | 742/998 [18:29<12:11,  2.86s/it]/Users/prady/.local/lib/python3.7/site-packages/sklearn/linear_model/base.py:297: RuntimeWarning: overflow encountered in exp\n",
      "  np.exp(prob, prob)\n",
      " 75%|███████▍  | 744/998 [18:38<14:20,  3.39s/it]/Users/prady/.local/lib/python3.7/site-packages/sklearn/linear_model/base.py:297: RuntimeWarning: overflow encountered in exp\n",
      "  np.exp(prob, prob)\n",
      " 77%|███████▋  | 766/998 [21:07<15:14,  3.94s/it]  /Users/prady/.local/lib/python3.7/site-packages/sklearn/linear_model/base.py:297: RuntimeWarning: overflow encountered in exp\n",
      "  np.exp(prob, prob)\n",
      " 78%|███████▊  | 776/998 [21:21<03:05,  1.20it/s]/Users/prady/.local/lib/python3.7/site-packages/sklearn/linear_model/base.py:297: RuntimeWarning: overflow encountered in exp\n",
      "  np.exp(prob, prob)\n",
      " 78%|███████▊  | 783/998 [21:32<05:07,  1.43s/it]/Users/prady/.local/lib/python3.7/site-packages/sklearn/linear_model/base.py:297: RuntimeWarning: overflow encountered in exp\n",
      "  np.exp(prob, prob)\n",
      " 79%|███████▉  | 788/998 [21:41<04:02,  1.15s/it]/Users/prady/.local/lib/python3.7/site-packages/sklearn/linear_model/base.py:297: RuntimeWarning: overflow encountered in exp\n",
      "  np.exp(prob, prob)\n",
      " 83%|████████▎ | 832/998 [22:33<04:24,  1.60s/it]/Users/prady/.local/lib/python3.7/site-packages/sklearn/linear_model/base.py:297: RuntimeWarning: overflow encountered in exp\n",
      "  np.exp(prob, prob)\n",
      " 85%|████████▌ | 849/998 [22:53<02:27,  1.01it/s]/Users/prady/.local/lib/python3.7/site-packages/sklearn/linear_model/base.py:297: RuntimeWarning: overflow encountered in exp\n",
      "  np.exp(prob, prob)\n",
      " 86%|████████▋ | 863/998 [23:18<02:24,  1.07s/it]/Users/prady/.local/lib/python3.7/site-packages/sklearn/linear_model/base.py:297: RuntimeWarning: overflow encountered in exp\n",
      "  np.exp(prob, prob)\n",
      " 89%|████████▊ | 884/998 [23:52<02:03,  1.08s/it]/Users/prady/.local/lib/python3.7/site-packages/sklearn/linear_model/base.py:297: RuntimeWarning: overflow encountered in exp\n",
      "  np.exp(prob, prob)\n",
      " 90%|█████████ | 901/998 [24:15<01:06,  1.45it/s]/Users/prady/.local/lib/python3.7/site-packages/sklearn/linear_model/base.py:297: RuntimeWarning: overflow encountered in exp\n",
      "  np.exp(prob, prob)\n",
      " 97%|█████████▋| 971/998 [25:52<00:51,  1.89s/it]/Users/prady/.local/lib/python3.7/site-packages/sklearn/linear_model/base.py:297: RuntimeWarning: overflow encountered in exp\n",
      "  np.exp(prob, prob)\n",
      " 98%|█████████▊| 982/998 [26:09<00:23,  1.46s/it]/Users/prady/.local/lib/python3.7/site-packages/sklearn/linear_model/base.py:297: RuntimeWarning: overflow encountered in exp\n",
      "  np.exp(prob, prob)\n",
      " 98%|█████████▊| 983/998 [26:16<00:45,  3.02s/it]/Users/prady/.local/lib/python3.7/site-packages/sklearn/linear_model/base.py:297: RuntimeWarning: overflow encountered in exp\n",
      "  np.exp(prob, prob)\n",
      " 99%|█████████▊| 985/998 [26:24<00:42,  3.31s/it]/Users/prady/.local/lib/python3.7/site-packages/sklearn/linear_model/base.py:297: RuntimeWarning: overflow encountered in exp\n",
      "  np.exp(prob, prob)\n",
      "100%|█████████▉| 996/998 [26:42<00:01,  1.08it/s]/Users/prady/.local/lib/python3.7/site-packages/sklearn/linear_model/base.py:297: RuntimeWarning: overflow encountered in exp\n",
      "  np.exp(prob, prob)\n",
      "100%|██████████| 998/998 [26:50<00:00,  1.61s/it]\n",
      "  0%|          | 0/996 [00:00<?, ?it/s]"
     ]
    },
    {
     "name": "stdout",
     "output_type": "stream",
     "text": [
      "completed in 1634.8995230197906\n",
      "47 out of 50\n",
      "../../rawdata/entrepreneur/entrepreneur_controversial.csv\n"
     ]
    },
    {
     "name": "stderr",
     "output_type": "stream",
     "text": [
      "100%|██████████| 996/996 [00:11<00:00, 84.57it/s] \n",
      "  1%|          | 11/996 [00:04<04:58,  3.29it/s]/Users/prady/.local/lib/python3.7/site-packages/sklearn/linear_model/base.py:297: RuntimeWarning: overflow encountered in exp\n",
      "  np.exp(prob, prob)\n",
      "  5%|▍         | 47/996 [00:30<09:20,  1.69it/s]/Users/prady/.local/lib/python3.7/site-packages/sklearn/linear_model/base.py:297: RuntimeWarning: overflow encountered in exp\n",
      "  np.exp(prob, prob)\n",
      " 24%|██▍       | 237/996 [02:23<06:45,  1.87it/s]/Users/prady/.local/lib/python3.7/site-packages/sklearn/linear_model/base.py:297: RuntimeWarning: overflow encountered in exp\n",
      "  np.exp(prob, prob)\n",
      " 28%|██▊       | 279/996 [02:43<03:31,  3.39it/s]/Users/prady/.local/lib/python3.7/site-packages/sklearn/linear_model/base.py:297: RuntimeWarning: overflow encountered in exp\n",
      "  np.exp(prob, prob)\n",
      " 32%|███▏      | 320/996 [03:07<05:42,  1.97it/s]/Users/prady/.local/lib/python3.7/site-packages/sklearn/linear_model/base.py:297: RuntimeWarning: overflow encountered in exp\n",
      "  np.exp(prob, prob)\n",
      " 33%|███▎      | 326/996 [03:14<07:44,  1.44it/s]/Users/prady/.local/lib/python3.7/site-packages/sklearn/linear_model/base.py:297: RuntimeWarning: overflow encountered in exp\n",
      "  np.exp(prob, prob)\n",
      " 37%|███▋      | 371/996 [03:42<07:34,  1.38it/s]/Users/prady/.local/lib/python3.7/site-packages/sklearn/linear_model/base.py:297: RuntimeWarning: overflow encountered in exp\n",
      "  np.exp(prob, prob)\n",
      " 52%|█████▏    | 515/996 [04:58<09:30,  1.19s/it]/Users/prady/.local/lib/python3.7/site-packages/sklearn/linear_model/base.py:297: RuntimeWarning: overflow encountered in exp\n",
      "  np.exp(prob, prob)\n",
      " 57%|█████▋    | 564/996 [05:40<04:26,  1.62it/s]/Users/prady/.local/lib/python3.7/site-packages/sklearn/linear_model/base.py:297: RuntimeWarning: overflow encountered in exp\n",
      "  np.exp(prob, prob)\n",
      " 63%|██████▎   | 626/996 [06:15<02:07,  2.89it/s]/Users/prady/.local/lib/python3.7/site-packages/sklearn/linear_model/base.py:297: RuntimeWarning: overflow encountered in exp\n",
      "  np.exp(prob, prob)\n",
      " 65%|██████▍   | 646/996 [06:32<03:03,  1.91it/s]/Users/prady/.local/lib/python3.7/site-packages/sklearn/linear_model/base.py:297: RuntimeWarning: overflow encountered in exp\n",
      "  np.exp(prob, prob)\n",
      " 65%|██████▌   | 650/996 [06:39<04:46,  1.21it/s]/Users/prady/.local/lib/python3.7/site-packages/sklearn/linear_model/base.py:297: RuntimeWarning: overflow encountered in exp\n",
      "  np.exp(prob, prob)\n",
      " 67%|██████▋   | 663/996 [06:55<09:08,  1.65s/it]/Users/prady/.local/lib/python3.7/site-packages/sklearn/linear_model/base.py:297: RuntimeWarning: overflow encountered in exp\n",
      "  np.exp(prob, prob)\n",
      " 75%|███████▍  | 744/996 [07:42<02:48,  1.49it/s]/Users/prady/.local/lib/python3.7/site-packages/sklearn/linear_model/base.py:297: RuntimeWarning: overflow encountered in exp\n",
      "  np.exp(prob, prob)\n",
      " 75%|███████▌  | 749/996 [07:51<05:09,  1.25s/it]/Users/prady/.local/lib/python3.7/site-packages/sklearn/linear_model/base.py:297: RuntimeWarning: overflow encountered in exp\n",
      "  np.exp(prob, prob)\n",
      " 77%|███████▋  | 771/996 [08:14<02:45,  1.36it/s]/Users/prady/.local/lib/python3.7/site-packages/sklearn/linear_model/base.py:297: RuntimeWarning: overflow encountered in exp\n",
      "  np.exp(prob, prob)\n",
      " 78%|███████▊  | 775/996 [08:21<03:52,  1.05s/it]/Users/prady/.local/lib/python3.7/site-packages/sklearn/linear_model/base.py:297: RuntimeWarning: overflow encountered in exp\n",
      "  np.exp(prob, prob)\n",
      " 79%|███████▉  | 786/996 [08:34<03:27,  1.01it/s]/Users/prady/.local/lib/python3.7/site-packages/sklearn/linear_model/base.py:297: RuntimeWarning: overflow encountered in exp\n",
      "  np.exp(prob, prob)\n",
      " 82%|████████▏ | 821/996 [08:57<01:02,  2.78it/s]/Users/prady/.local/lib/python3.7/site-packages/sklearn/linear_model/base.py:297: RuntimeWarning: overflow encountered in exp\n",
      "  np.exp(prob, prob)\n",
      " 85%|████████▌ | 847/996 [09:15<01:03,  2.35it/s]/Users/prady/.local/lib/python3.7/site-packages/sklearn/linear_model/base.py:297: RuntimeWarning: overflow encountered in exp\n",
      "  np.exp(prob, prob)\n",
      " 92%|█████████▏| 913/996 [09:59<00:29,  2.79it/s]/Users/prady/.local/lib/python3.7/site-packages/sklearn/linear_model/base.py:297: RuntimeWarning: overflow encountered in exp\n",
      "  np.exp(prob, prob)\n",
      " 92%|█████████▏| 916/996 [10:04<01:16,  1.05it/s]/Users/prady/.local/lib/python3.7/site-packages/sklearn/linear_model/base.py:297: RuntimeWarning: overflow encountered in exp\n",
      "  np.exp(prob, prob)\n",
      " 97%|█████████▋| 964/996 [10:33<00:15,  2.09it/s]/Users/prady/.local/lib/python3.7/site-packages/sklearn/linear_model/base.py:297: RuntimeWarning: overflow encountered in exp\n",
      "  np.exp(prob, prob)\n",
      " 98%|█████████▊| 977/996 [10:48<00:18,  1.03it/s]/Users/prady/.local/lib/python3.7/site-packages/sklearn/linear_model/base.py:297: RuntimeWarning: overflow encountered in exp\n",
      "  np.exp(prob, prob)\n",
      " 99%|█████████▉| 989/996 [11:03<00:12,  1.82s/it]/Users/prady/.local/lib/python3.7/site-packages/sklearn/linear_model/base.py:297: RuntimeWarning: overflow encountered in exp\n",
      "  np.exp(prob, prob)\n",
      "100%|██████████| 996/996 [11:12<00:00,  1.48it/s]\n",
      "  2%|▏         | 14/586 [00:00<00:04, 139.74it/s]"
     ]
    },
    {
     "name": "stdout",
     "output_type": "stream",
     "text": [
      "completed in 686.3056910037994\n",
      "48 out of 50\n",
      "../../rawdata/entrepreneur/entrepreneur_new.csv\n"
     ]
    },
    {
     "name": "stderr",
     "output_type": "stream",
     "text": [
      "100%|██████████| 586/586 [00:04<00:00, 119.21it/s]\n",
      " 20%|██        | 118/586 [00:43<07:11,  1.08it/s]/Users/prady/.local/lib/python3.7/site-packages/sklearn/linear_model/base.py:297: RuntimeWarning: overflow encountered in exp\n",
      "  np.exp(prob, prob)\n",
      " 24%|██▍       | 143/586 [00:54<01:32,  4.80it/s]/Users/prady/.local/lib/python3.7/site-packages/sklearn/linear_model/base.py:297: RuntimeWarning: overflow encountered in exp\n",
      "  np.exp(prob, prob)\n",
      " 32%|███▏      | 187/586 [01:13<01:32,  4.29it/s]/Users/prady/.local/lib/python3.7/site-packages/sklearn/linear_model/base.py:297: RuntimeWarning: overflow encountered in exp\n",
      "  np.exp(prob, prob)\n",
      " 52%|█████▏    | 304/586 [02:03<02:02,  2.30it/s]/Users/prady/.local/lib/python3.7/site-packages/sklearn/linear_model/base.py:297: RuntimeWarning: overflow encountered in exp\n",
      "  np.exp(prob, prob)\n",
      " 58%|█████▊    | 339/586 [02:20<01:04,  3.83it/s]/Users/prady/.local/lib/python3.7/site-packages/sklearn/linear_model/base.py:297: RuntimeWarning: overflow encountered in exp\n",
      "  np.exp(prob, prob)\n",
      " 82%|████████▏ | 480/586 [24:27<00:59,  1.78it/s]    /Users/prady/.local/lib/python3.7/site-packages/sklearn/linear_model/base.py:297: RuntimeWarning: overflow encountered in exp\n",
      "  np.exp(prob, prob)\n",
      " 85%|████████▌ | 500/586 [24:45<00:24,  3.47it/s]/Users/prady/.local/lib/python3.7/site-packages/sklearn/linear_model/base.py:297: RuntimeWarning: overflow encountered in exp\n",
      "  np.exp(prob, prob)\n",
      " 92%|█████████▏| 541/586 [25:15<00:17,  2.51it/s]/Users/prady/.local/lib/python3.7/site-packages/sklearn/linear_model/base.py:297: RuntimeWarning: overflow encountered in exp\n",
      "  np.exp(prob, prob)\n",
      "100%|██████████| 586/586 [25:38<00:00,  2.62s/it]\n",
      "100%|██████████| 18/18 [00:00<00:00, 109.48it/s]\n",
      "  0%|          | 0/18 [00:00<?, ?it/s]"
     ]
    },
    {
     "name": "stdout",
     "output_type": "stream",
     "text": [
      "completed in 1544.6287701129913\n",
      "49 out of 50\n",
      "../../rawdata/entrepreneur/entrepreneur_rising.csv\n"
     ]
    },
    {
     "name": "stderr",
     "output_type": "stream",
     "text": [
      "100%|██████████| 18/18 [00:07<00:00,  2.28it/s]\n",
      "  2%|▏         | 10/659 [00:00<00:06, 93.84it/s]"
     ]
    },
    {
     "name": "stdout",
     "output_type": "stream",
     "text": [
      "completed in 8.475209951400757\n",
      "50 out of 50\n",
      "../../rawdata/entrepreneur/entrepreneur_hot.csv\n"
     ]
    },
    {
     "name": "stderr",
     "output_type": "stream",
     "text": [
      "100%|██████████| 659/659 [00:06<00:00, 105.30it/s]\n",
      " 20%|██        | 133/659 [00:39<04:18,  2.03it/s]/Users/prady/.local/lib/python3.7/site-packages/sklearn/linear_model/base.py:297: RuntimeWarning: overflow encountered in exp\n",
      "  np.exp(prob, prob)\n",
      " 21%|██▏       | 141/659 [00:49<08:40,  1.00s/it]/Users/prady/.local/lib/python3.7/site-packages/sklearn/linear_model/base.py:297: RuntimeWarning: overflow encountered in exp\n",
      "  np.exp(prob, prob)\n",
      " 27%|██▋       | 179/659 [01:02<02:00,  3.97it/s]/Users/prady/.local/lib/python3.7/site-packages/sklearn/linear_model/base.py:297: RuntimeWarning: overflow encountered in exp\n",
      "  np.exp(prob, prob)\n",
      " 52%|█████▏    | 340/659 [02:16<02:14,  2.36it/s]/Users/prady/.local/lib/python3.7/site-packages/sklearn/linear_model/base.py:297: RuntimeWarning: overflow encountered in exp\n",
      "  np.exp(prob, prob)\n",
      " 57%|█████▋    | 378/659 [02:33<01:16,  3.69it/s]/Users/prady/.local/lib/python3.7/site-packages/sklearn/linear_model/base.py:297: RuntimeWarning: overflow encountered in exp\n",
      "  np.exp(prob, prob)\n",
      " 58%|█████▊    | 384/659 [02:44<04:18,  1.06it/s]/Users/prady/.local/lib/python3.7/site-packages/sklearn/linear_model/base.py:297: RuntimeWarning: overflow encountered in exp\n",
      "  np.exp(prob, prob)\n",
      " 85%|████████▍ | 558/659 [04:00<00:23,  4.21it/s]/Users/prady/.local/lib/python3.7/site-packages/sklearn/linear_model/base.py:297: RuntimeWarning: overflow encountered in exp\n",
      "  np.exp(prob, prob)\n",
      " 87%|████████▋ | 576/659 [04:19<01:18,  1.06it/s]/Users/prady/.local/lib/python3.7/site-packages/sklearn/linear_model/base.py:297: RuntimeWarning: overflow encountered in exp\n",
      "  np.exp(prob, prob)\n",
      " 88%|████████▊ | 582/659 [04:30<01:13,  1.05it/s]/Users/prady/.local/lib/python3.7/site-packages/sklearn/linear_model/base.py:297: RuntimeWarning: overflow encountered in exp\n",
      "  np.exp(prob, prob)\n",
      " 95%|█████████▍| 623/659 [04:55<00:12,  2.84it/s]/Users/prady/.local/lib/python3.7/site-packages/sklearn/linear_model/base.py:297: RuntimeWarning: overflow encountered in exp\n",
      "  np.exp(prob, prob)\n",
      " 99%|█████████▊| 650/659 [05:09<00:03,  2.26it/s]/Users/prady/.local/lib/python3.7/site-packages/sklearn/linear_model/base.py:297: RuntimeWarning: overflow encountered in exp\n",
      "  np.exp(prob, prob)\n",
      "100%|██████████| 659/659 [05:15<00:00,  2.09it/s]\n"
     ]
    },
    {
     "name": "stdout",
     "output_type": "stream",
     "text": [
      "completed in 323.9657289981842\n"
     ]
    }
   ],
   "source": [
    "reddit_dir = '../../rawdata/'\n",
    "reddit_list = [y for x in os.walk(reddit_dir) for y in glob(os.path.join(x[0], '*.csv')) if 'comment' not in y]\n",
    "for j,r in enumerate(reddit_list):\n",
    "    print(str(j+1) + \" out of \" + str(len(reddit_list)))\n",
    "    print(r)\n",
    "    t0 = time()\n",
    "    df = load_reddit(r)\n",
    "    df = sentiment_nrc(df)\n",
    "    df = sentiment_ms(df)\n",
    "    df = sentiment_sentistrength(df)\n",
    "    df.to_csv(r, index=False, index_label=False)\n",
    "    print(\"completed in \"+str(time()-t0))"
   ]
  },
  {
   "cell_type": "code",
   "execution_count": null,
   "metadata": {},
   "outputs": [],
   "source": []
  }
 ],
 "metadata": {
  "kernelspec": {
   "display_name": "Python 3",
   "language": "python",
   "name": "python3"
  },
  "language_info": {
   "codemirror_mode": {
    "name": "ipython",
    "version": 3
   },
   "file_extension": ".py",
   "mimetype": "text/x-python",
   "name": "python",
   "nbconvert_exporter": "python",
   "pygments_lexer": "ipython3",
   "version": "3.7.1"
  }
 },
 "nbformat": 4,
 "nbformat_minor": 2
}
