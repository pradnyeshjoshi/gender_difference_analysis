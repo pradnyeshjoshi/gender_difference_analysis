{
 "cells": [
  {
   "cell_type": "code",
   "execution_count": 4,
   "metadata": {},
   "outputs": [],
   "source": [
    "import pandas as pd\n",
    "import logging, os\n",
    "from glob import glob\n",
    "from textblob import TextBlob\n",
    "from tqdm import tqdm\n",
    "\n",
    "def load_reddit(path):\n",
    "    df = pd.read_csv(path)\n",
    "    df['full_text'] = df['body'].astype(str).fillna('')\n",
    "    return df"
   ]
  },
  {
   "cell_type": "code",
   "execution_count": 5,
   "metadata": {},
   "outputs": [
    {
     "name": "stdout",
     "output_type": "stream",
     "text": [
      "../../rawdata/Venturecapital/venturecapital_controversial_comment.csv\n",
      "../../rawdata/Venturecapital/venturecapital_hot_comment.csv\n",
      "../../rawdata/Venturecapital/venturecapital_controversial_secondcomment.csv\n",
      "../../rawdata/Venturecapital/venturecapital_new_secondcomment.csv\n",
      "../../rawdata/Venturecapital/venturecapital_rising_secondcomment.csv\n",
      "../../rawdata/Venturecapital/venturecapital_top_comment.csv\n",
      "../../rawdata/Venturecapital/venturecapital_new_comment.csv\n",
      "../../rawdata/Venturecapital/venturecapital_hot_secondcomment.csv\n",
      "../../rawdata/Venturecapital/venturecapital_rising_comment.csv\n",
      "../../rawdata/Venturecapital/venturecapital_top_secondcomment.csv\n",
      "../../rawdata/Startups/startups_hot_secondcomment.csv\n",
      "../../rawdata/Startups/startups_top_comment.csv\n",
      "../../rawdata/Startups/startups_new_comment.csv\n",
      "../../rawdata/Startups/startups_controversial_secondcomment.csv\n",
      "../../rawdata/Startups/startups_rising_comment.csv\n",
      "../../rawdata/Startups/startups_top_secondcomment.csv\n"
     ]
    },
    {
     "name": "stderr",
     "output_type": "stream",
     "text": [
      "/Users/prady/anaconda3/lib/python3.7/site-packages/IPython/core/interactiveshell.py:2901: DtypeWarning: Columns (3,4,7,8,12,13,18,19,20,23,24,36,44,47,50,53,57,67) have mixed types. Specify dtype option on import or set low_memory=False.\n",
      "  if self.run_code(code, result):\n"
     ]
    },
    {
     "name": "stdout",
     "output_type": "stream",
     "text": [
      "../../rawdata/Startups/startups_rising_secondcomment.csv\n",
      "../../rawdata/Startups/startups_hot_comment.csv\n",
      "../../rawdata/Startups/startups_new_secondcomment.csv\n",
      "../../rawdata/Startups/startups_controversial_comment.csv\n",
      "../../rawdata/Entrepreneurship/entrepreneurship_hot_comment.csv\n",
      "../../rawdata/Entrepreneurship/entrepreneurship_top_secondcomment.csv\n",
      "../../rawdata/Entrepreneurship/entrepreneurship_controversial_comment.csv\n",
      "../../rawdata/Entrepreneurship/entrepreneurship_hot_secondcomment.csv\n",
      "../../rawdata/Entrepreneurship/entrepreneurship_rising_comment.csv\n",
      "../../rawdata/Entrepreneurship/entrepreneurship_controversial_secondcomment.csv\n",
      "../../rawdata/Entrepreneurship/entrepreneurship_new_secondcomment.csv\n",
      "../../rawdata/Entrepreneurship/entrepreneurship_rising_secondcomment.csv\n",
      "../../rawdata/Entrepreneurship/entrepreneurship_top_comment.csv\n",
      "../../rawdata/Entrepreneurship/entrepreneurship_new_comment.csv\n",
      "../../rawdata/EntrepreneurRideAlong/EntrepreneurRideAlong_new_secondcomment.csv\n",
      "../../rawdata/EntrepreneurRideAlong/EntrepreneurRideAlong_hot_comment.csv\n",
      "../../rawdata/EntrepreneurRideAlong/EntrepreneurRideAlong_rising_comment.csv\n",
      "../../rawdata/EntrepreneurRideAlong/EntrepreneurRideAlong_rising_secondcomment.csv\n",
      "../../rawdata/EntrepreneurRideAlong/EntrepreneurRideAlong_controversial_comment.csv\n",
      "../../rawdata/EntrepreneurRideAlong/EntrepreneurRideAlong_new_comment.csv\n",
      "../../rawdata/EntrepreneurRideAlong/EntrepreneurRideAlong_top_secondcomment.csv\n",
      "../../rawdata/EntrepreneurRideAlong/EntrepreneurRideAlong_top_comment.csv\n",
      "../../rawdata/EntrepreneurRideAlong/EntrepreneurRideAlong_controversial_secondcomment.csv\n",
      "../../rawdata/EntrepreneurRideAlong/EntrepreneurRideAlong_hot_secondcomment.csv\n",
      "../../rawdata/Business/business_risingcomment.csv\n",
      "../../rawdata/Business/business_risingsecondcomment.csv\n",
      "../../rawdata/Business/business_controversialsecondcomment.csv\n",
      "../../rawdata/Business/business_newcomment.csv\n",
      "../../rawdata/Business/business_controversialcomment.csv\n",
      "../../rawdata/Business/business_topsecondcomment.csv\n"
     ]
    },
    {
     "name": "stderr",
     "output_type": "stream",
     "text": [
      "/Users/prady/anaconda3/lib/python3.7/site-packages/IPython/core/interactiveshell.py:2901: DtypeWarning: Columns (66) have mixed types. Specify dtype option on import or set low_memory=False.\n",
      "  if self.run_code(code, result):\n"
     ]
    },
    {
     "name": "stdout",
     "output_type": "stream",
     "text": [
      "../../rawdata/Business/business_topcomment.csv\n"
     ]
    },
    {
     "name": "stderr",
     "output_type": "stream",
     "text": [
      "/Users/prady/anaconda3/lib/python3.7/site-packages/IPython/core/interactiveshell.py:2901: DtypeWarning: Columns (3,4,7,8,12,13,18,19,20,23,24,36,44,47,50,53,57,66,67) have mixed types. Specify dtype option on import or set low_memory=False.\n",
      "  if self.run_code(code, result):\n"
     ]
    },
    {
     "name": "stdout",
     "output_type": "stream",
     "text": [
      "../../rawdata/Business/business_hotsecondcomment.csv\n",
      "../../rawdata/Business/business_newsecondcomment.csv\n",
      "../../rawdata/Business/business_hotcomment.csv\n",
      "../../rawdata/Smallbusiness/smallbusiness_new_secondcomment.csv\n",
      "../../rawdata/Smallbusiness/smallbusiness_hot_comment.csv\n",
      "../../rawdata/Smallbusiness/smallbusiness_controversial_secondcomment.csv\n",
      "../../rawdata/Smallbusiness/smallbusiness_new_comment.csv\n",
      "../../rawdata/Smallbusiness/smallbusiness_top_secondcomment.csv\n",
      "../../rawdata/Smallbusiness/smallbusiness_top_comment.csv\n",
      "../../rawdata/Smallbusiness/smallbusiness_rising_secondcomment.csv\n",
      "../../rawdata/Smallbusiness/smallbusiness_controversial_comment.csv\n",
      "../../rawdata/Smallbusiness/smallbusiness_rising_comment.csv\n",
      "../../rawdata/Smallbusiness/smallbusiness_hot_secondcomment.csv\n",
      "../../rawdata/Growmybusiness/growmybusiness_new_comment.csv\n",
      "../../rawdata/Growmybusiness/growmybusiness_top_comment.csv\n",
      "../../rawdata/Growmybusiness/growmybusiness_new_secondcomment.csv\n",
      "../../rawdata/Growmybusiness/growmybusiness_rising_secondcomment.csv.csv\n",
      "../../rawdata/Growmybusiness/growmybusiness_hot_comment.csv\n",
      "../../rawdata/Growmybusiness/growmybusiness_rising_comment.csv\n",
      "../../rawdata/Growmybusiness/growmybusiness_controversial_secondcomment.csv\n",
      "../../rawdata/Growmybusiness/growmybusiness_hot_secondcomment.csv\n",
      "../../rawdata/Growmybusiness/growmybusiness_controversial_comment.csv\n",
      "../../rawdata/Growmybusiness/growmybusiness_top_secondcomment.csv\n",
      "../../rawdata/Startup_ideas/startup_ideas_top_comment.csv\n",
      "../../rawdata/Startup_ideas/startup_ideas_new_comment.csv\n",
      "../../rawdata/Startup_ideas/startup_ideas_new_secondcomment.csv\n",
      "../../rawdata/Startup_ideas/startup_ideas_controversial_secondcomment.csv\n",
      "../../rawdata/Startup_ideas/startup_ideas_rising_comment.csv\n",
      "../../rawdata/Startup_ideas/startup_ideas_top_secondcomment.csv\n",
      "../../rawdata/Startup_ideas/startup_ideas_controversial_comment.csv\n",
      "../../rawdata/Startup_ideas/startup_ideas_hot_secondcomment.csv\n",
      "../../rawdata/Startup_ideas/startup_ideas_hot_comment.csv\n",
      "../../rawdata/Startup_ideas/startup_ideas_rising_secondcomment.csv\n",
      "../../rawdata/Ladybusiness/ladybusiness_top_comment.csv\n",
      "../../rawdata/Ladybusiness/ladybusiness_new_comment.csv\n",
      "../../rawdata/Ladybusiness/ladybusiness_controversial_comment.csv\n",
      "../../rawdata/Ladybusiness/ladybusiness_controversial_secondcomment.csv\n",
      "../../rawdata/Ladybusiness/ladybusiness_rising_comment.csv\n",
      "../../rawdata/Ladybusiness/ladybusiness_new_secondcomment.csv\n",
      "../../rawdata/Ladybusiness/ladybusiness_hot_secondcomment.csv\n",
      "../../rawdata/Ladybusiness/ladybusiness_hot_comment.csv\n",
      "../../rawdata/Ladybusiness/ladybusiness_rising_secondcomment.csv\n",
      "../../rawdata/Ladybusiness/ladybusiness_top_secondcomment.csv\n",
      "../../rawdata/entrepreneur/entrepreneur_rising_secondcomments.csv\n",
      "../../rawdata/entrepreneur/entrepreneur_hot_comments.csv\n",
      "../../rawdata/entrepreneur/entrepreneur_top_comments.csv\n"
     ]
    },
    {
     "name": "stderr",
     "output_type": "stream",
     "text": [
      "100%|██████████| 59286/59286 [03:37<00:00, 272.35it/s]\n"
     ]
    },
    {
     "name": "stdout",
     "output_type": "stream",
     "text": [
      "../../rawdata/entrepreneur/entrepreneur_controversial_secondcomments.csv\n"
     ]
    },
    {
     "name": "stderr",
     "output_type": "stream",
     "text": [
      "100%|██████████| 6015/6015 [00:09<00:00, 607.67it/s]\n",
      "  4%|▎         | 74/2048 [00:00<00:02, 738.99it/s]"
     ]
    },
    {
     "name": "stdout",
     "output_type": "stream",
     "text": [
      "../../rawdata/entrepreneur/entrepreneur_hot_secondcomments.csv\n"
     ]
    },
    {
     "name": "stderr",
     "output_type": "stream",
     "text": [
      "100%|██████████| 2048/2048 [00:02<00:00, 684.56it/s]\n"
     ]
    },
    {
     "name": "stdout",
     "output_type": "stream",
     "text": [
      "../../rawdata/entrepreneur/entrepreneur_controversial_comments.csv\n"
     ]
    },
    {
     "name": "stderr",
     "output_type": "stream",
     "text": [
      "100%|██████████| 8799/8799 [00:15<00:00, 577.66it/s]\n"
     ]
    },
    {
     "name": "stdout",
     "output_type": "stream",
     "text": [
      "../../rawdata/entrepreneur/entrepreneur_top_secondcomments.csv\n"
     ]
    },
    {
     "name": "stderr",
     "output_type": "stream",
     "text": [
      "100%|██████████| 45845/45845 [02:06<00:00, 361.51it/s]\n",
      "  0%|          | 0/3314 [00:00<?, ?it/s]"
     ]
    },
    {
     "name": "stdout",
     "output_type": "stream",
     "text": [
      "../../rawdata/entrepreneur/entrepreneur_new_comments.csv\n"
     ]
    },
    {
     "name": "stderr",
     "output_type": "stream",
     "text": [
      "100%|██████████| 3314/3314 [00:05<00:00, 556.87it/s]\n",
      "  4%|▍         | 72/1703 [00:00<00:02, 717.51it/s]"
     ]
    },
    {
     "name": "stdout",
     "output_type": "stream",
     "text": [
      "../../rawdata/entrepreneur/entrepreneur_new_secondcomments.csv\n"
     ]
    },
    {
     "name": "stderr",
     "output_type": "stream",
     "text": [
      "100%|██████████| 1703/1703 [00:02<00:00, 742.13it/s]\n",
      " 60%|██████    | 63/105 [00:00<00:00, 625.65it/s]"
     ]
    },
    {
     "name": "stdout",
     "output_type": "stream",
     "text": [
      "../../rawdata/entrepreneur/entrepreneur_rising_comments.csv\n"
     ]
    },
    {
     "name": "stderr",
     "output_type": "stream",
     "text": [
      "100%|██████████| 105/105 [00:00<00:00, 563.86it/s]\n"
     ]
    }
   ],
   "source": [
    "reddit_dir = '../../rawdata/'\n",
    "logging.info(\"loading reddit dataset\")\n",
    "reddit_list = [y for x in os.walk(reddit_dir) for y in glob(os.path.join(x[0], '*.csv')) if 'comment' in y]\n",
    "\n",
    "for i in range(len(reddit_list)):\n",
    "    r = reddit_list[i]\n",
    "    print(r)\n",
    "    df_reddit = load_reddit(r)\n",
    "    if 'Unnamed: 0' in df_reddit.columns:\n",
    "        del df_reddit['Unnamed: 0']\n",
    "    m, n = df_reddit.shape\n",
    "\n",
    "    if 'textblob_wordcount' in df_reddit.columns:\n",
    "        continue\n",
    "\n",
    "    df_reddit['textblob_wordcount'] = 0\n",
    "    for j in tqdm(range(m)):\n",
    "        tb = TextBlob(df_reddit.loc[j, 'full_text'])\n",
    "        df_reddit.loc[j, 'textblob_wordcount'] = len(tb.words)\n",
    "\n",
    "    del df_reddit['full_text']\n",
    "    df_reddit.to_csv(r, index=False, index_label=False)"
   ]
  },
  {
   "cell_type": "code",
   "execution_count": null,
   "metadata": {},
   "outputs": [],
   "source": []
  }
 ],
 "metadata": {
  "kernelspec": {
   "display_name": "Python 3",
   "language": "python",
   "name": "python3"
  },
  "language_info": {
   "codemirror_mode": {
    "name": "ipython",
    "version": 3
   },
   "file_extension": ".py",
   "mimetype": "text/x-python",
   "name": "python",
   "nbconvert_exporter": "python",
   "pygments_lexer": "ipython3",
   "version": "3.7.1"
  }
 },
 "nbformat": 4,
 "nbformat_minor": 2
}
