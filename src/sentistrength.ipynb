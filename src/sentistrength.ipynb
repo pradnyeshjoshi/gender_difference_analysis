{
 "cells": [
  {
   "cell_type": "markdown",
   "metadata": {},
   "source": [
    "### Comments"
   ]
  },
  {
   "cell_type": "code",
   "execution_count": 2,
   "metadata": {},
   "outputs": [],
   "source": [
    "import pandas as pd\n",
    "import os\n",
    "from glob import glob\n",
    "from tqdm import tqdm\n",
    "from sentistrength import PySentiStr"
   ]
  },
  {
   "cell_type": "code",
   "execution_count": 4,
   "metadata": {},
   "outputs": [],
   "source": [
    "def load_reddit(path):\n",
    "    df = pd.read_csv(path)\n",
    "    df[\"full_text\"] = df[\"body\"].astype(str).fillna('')\n",
    "    return df\n",
    "\n",
    "def sentiment_sentistrength(df):\n",
    "    senti = PySentiStr()\n",
    "    senti.setSentiStrengthPath('/Users/prady/softwares/SentiStrengthCom.jar')\n",
    "    senti.setSentiStrengthLanguageFolderPath('/Users/prady/softwares/SentStrength_Data_Sept2011/')\n",
    "    result = senti.getSentiment(df[\"full_text\"], score='trinary')\n",
    "    df[\"sentistrength_pos\"] = [r[0] for r in result]\n",
    "    df[\"sentistrength_neg\"] = [r[1] for r in result]\n",
    "    df[\"sentistrength_neutral\"] = [r[2] for r in result]\n",
    "    return df"
   ]
  },
  {
   "cell_type": "code",
   "execution_count": 31,
   "metadata": {},
   "outputs": [
    {
     "name": "stdout",
     "output_type": "stream",
     "text": [
      "1 out of 100\n",
      "../../rawdata/Venturecapital/venturecapital_controversial_comment.csv\n",
      "2 out of 100\n",
      "../../rawdata/Venturecapital/venturecapital_hot_comment.csv\n",
      "3 out of 100\n",
      "../../rawdata/Venturecapital/venturecapital_controversial_secondcomment.csv\n",
      "4 out of 100\n",
      "../../rawdata/Venturecapital/venturecapital_new_secondcomment.csv\n",
      "5 out of 100\n",
      "../../rawdata/Venturecapital/venturecapital_rising_secondcomment.csv\n",
      "6 out of 100\n",
      "../../rawdata/Venturecapital/venturecapital_top_comment.csv\n",
      "7 out of 100\n",
      "../../rawdata/Venturecapital/venturecapital_new_comment.csv\n",
      "8 out of 100\n",
      "../../rawdata/Venturecapital/venturecapital_hot_secondcomment.csv\n",
      "9 out of 100\n",
      "../../rawdata/Venturecapital/venturecapital_rising_comment.csv\n",
      "10 out of 100\n",
      "../../rawdata/Venturecapital/venturecapital_top_secondcomment.csv\n",
      "11 out of 100\n",
      "../../rawdata/Startups/startups_hot_secondcomment.csv\n",
      "12 out of 100\n",
      "../../rawdata/Startups/startups_top_comment.csv\n",
      "13 out of 100\n",
      "../../rawdata/Startups/startups_new_comment.csv\n",
      "14 out of 100\n",
      "../../rawdata/Startups/startups_controversial_secondcomment.csv\n",
      "15 out of 100\n",
      "../../rawdata/Startups/startups_rising_comment.csv\n",
      "16 out of 100\n",
      "../../rawdata/Startups/startups_top_secondcomment.csv\n"
     ]
    },
    {
     "name": "stderr",
     "output_type": "stream",
     "text": [
      "/Users/prady/anaconda3/lib/python3.7/site-packages/IPython/core/interactiveshell.py:2901: DtypeWarning: Columns (3,4,7,8,12,13,18,19,20,23,24,36,44,47,50,53,57,67) have mixed types. Specify dtype option on import or set low_memory=False.\n",
      "  if self.run_code(code, result):\n"
     ]
    },
    {
     "name": "stdout",
     "output_type": "stream",
     "text": [
      "17 out of 100\n",
      "../../rawdata/Startups/startups_rising_secondcomment.csv\n",
      "18 out of 100\n",
      "../../rawdata/Startups/startups_hot_comment.csv\n",
      "19 out of 100\n",
      "../../rawdata/Startups/startups_new_secondcomment.csv\n",
      "20 out of 100\n",
      "../../rawdata/Startups/startups_controversial_comment.csv\n",
      "21 out of 100\n",
      "../../rawdata/Entrepreneurship/entrepreneurship_hot_comment.csv\n",
      "22 out of 100\n",
      "../../rawdata/Entrepreneurship/entrepreneurship_top_secondcomment.csv\n",
      "23 out of 100\n",
      "../../rawdata/Entrepreneurship/entrepreneurship_controversial_comment.csv\n",
      "24 out of 100\n",
      "../../rawdata/Entrepreneurship/entrepreneurship_hot_secondcomment.csv\n",
      "25 out of 100\n",
      "../../rawdata/Entrepreneurship/entrepreneurship_rising_comment.csv\n",
      "26 out of 100\n",
      "../../rawdata/Entrepreneurship/entrepreneurship_controversial_secondcomment.csv\n",
      "27 out of 100\n",
      "../../rawdata/Entrepreneurship/entrepreneurship_new_secondcomment.csv\n",
      "28 out of 100\n",
      "../../rawdata/Entrepreneurship/entrepreneurship_rising_secondcomment.csv\n",
      "29 out of 100\n",
      "../../rawdata/Entrepreneurship/entrepreneurship_top_comment.csv\n",
      "30 out of 100\n",
      "../../rawdata/Entrepreneurship/entrepreneurship_new_comment.csv\n",
      "31 out of 100\n",
      "../../rawdata/EntrepreneurRideAlong/EntrepreneurRideAlong_new_secondcomment.csv\n",
      "32 out of 100\n",
      "../../rawdata/EntrepreneurRideAlong/EntrepreneurRideAlong_hot_comment.csv\n",
      "33 out of 100\n",
      "../../rawdata/EntrepreneurRideAlong/EntrepreneurRideAlong_rising_comment.csv\n",
      "34 out of 100\n",
      "../../rawdata/EntrepreneurRideAlong/EntrepreneurRideAlong_rising_secondcomment.csv\n",
      "35 out of 100\n",
      "../../rawdata/EntrepreneurRideAlong/EntrepreneurRideAlong_controversial_comment.csv\n",
      "36 out of 100\n",
      "../../rawdata/EntrepreneurRideAlong/EntrepreneurRideAlong_new_comment.csv\n",
      "37 out of 100\n",
      "../../rawdata/EntrepreneurRideAlong/EntrepreneurRideAlong_top_secondcomment.csv\n",
      "38 out of 100\n",
      "../../rawdata/EntrepreneurRideAlong/EntrepreneurRideAlong_top_comment.csv\n",
      "39 out of 100\n",
      "../../rawdata/EntrepreneurRideAlong/EntrepreneurRideAlong_controversial_secondcomment.csv\n",
      "40 out of 100\n",
      "../../rawdata/EntrepreneurRideAlong/EntrepreneurRideAlong_hot_secondcomment.csv\n",
      "41 out of 100\n",
      "../../rawdata/Business/business_risingcomment.csv\n",
      "42 out of 100\n",
      "../../rawdata/Business/business_risingsecondcomment.csv\n",
      "43 out of 100\n",
      "../../rawdata/Business/business_controversialsecondcomment.csv\n",
      "44 out of 100\n",
      "../../rawdata/Business/business_newcomment.csv\n",
      "45 out of 100\n",
      "../../rawdata/Business/business_controversialcomment.csv\n",
      "46 out of 100\n",
      "../../rawdata/Business/business_topsecondcomment.csv\n"
     ]
    },
    {
     "name": "stderr",
     "output_type": "stream",
     "text": [
      "/Users/prady/anaconda3/lib/python3.7/site-packages/IPython/core/interactiveshell.py:2901: DtypeWarning: Columns (66) have mixed types. Specify dtype option on import or set low_memory=False.\n",
      "  if self.run_code(code, result):\n"
     ]
    },
    {
     "name": "stdout",
     "output_type": "stream",
     "text": [
      "47 out of 100\n",
      "../../rawdata/Business/business_topcomment.csv\n"
     ]
    },
    {
     "name": "stderr",
     "output_type": "stream",
     "text": [
      "/Users/prady/anaconda3/lib/python3.7/site-packages/IPython/core/interactiveshell.py:2901: DtypeWarning: Columns (3,4,7,8,12,13,18,19,20,23,24,36,44,47,50,53,57,66,67) have mixed types. Specify dtype option on import or set low_memory=False.\n",
      "  if self.run_code(code, result):\n"
     ]
    },
    {
     "name": "stdout",
     "output_type": "stream",
     "text": [
      "48 out of 100\n",
      "../../rawdata/Business/business_hotsecondcomment.csv\n",
      "49 out of 100\n",
      "../../rawdata/Business/business_newsecondcomment.csv\n",
      "50 out of 100\n",
      "../../rawdata/Business/business_hotcomment.csv\n",
      "51 out of 100\n",
      "../../rawdata/Smallbusiness/smallbusiness_new_secondcomment.csv\n",
      "52 out of 100\n",
      "../../rawdata/Smallbusiness/smallbusiness_hot_comment.csv\n",
      "53 out of 100\n",
      "../../rawdata/Smallbusiness/smallbusiness_controversial_secondcomment.csv\n",
      "54 out of 100\n",
      "../../rawdata/Smallbusiness/smallbusiness_new_comment.csv\n",
      "55 out of 100\n",
      "../../rawdata/Smallbusiness/smallbusiness_top_secondcomment.csv\n"
     ]
    },
    {
     "name": "stderr",
     "output_type": "stream",
     "text": [
      "/Users/prady/anaconda3/lib/python3.7/site-packages/IPython/core/interactiveshell.py:2901: DtypeWarning: Columns (66) have mixed types. Specify dtype option on import or set low_memory=False.\n",
      "  if self.run_code(code, result):\n"
     ]
    },
    {
     "name": "stdout",
     "output_type": "stream",
     "text": [
      "56 out of 100\n",
      "../../rawdata/Smallbusiness/smallbusiness_top_comment.csv\n"
     ]
    },
    {
     "name": "stderr",
     "output_type": "stream",
     "text": [
      "/Users/prady/anaconda3/lib/python3.7/site-packages/IPython/core/interactiveshell.py:2901: DtypeWarning: Columns (66) have mixed types. Specify dtype option on import or set low_memory=False.\n",
      "  if self.run_code(code, result):\n"
     ]
    },
    {
     "name": "stdout",
     "output_type": "stream",
     "text": [
      "57 out of 100\n",
      "../../rawdata/Smallbusiness/smallbusiness_rising_secondcomment.csv\n",
      "58 out of 100\n",
      "../../rawdata/Smallbusiness/smallbusiness_controversial_comment.csv\n",
      "59 out of 100\n",
      "../../rawdata/Smallbusiness/smallbusiness_rising_comment.csv\n",
      "60 out of 100\n",
      "../../rawdata/Smallbusiness/smallbusiness_hot_secondcomment.csv\n",
      "61 out of 100\n",
      "../../rawdata/Growmybusiness/growmybusiness_new_comment.csv\n",
      "62 out of 100\n",
      "../../rawdata/Growmybusiness/growmybusiness_top_comment.csv\n",
      "63 out of 100\n",
      "../../rawdata/Growmybusiness/growmybusiness_new_secondcomment.csv\n",
      "64 out of 100\n",
      "../../rawdata/Growmybusiness/growmybusiness_rising_secondcomment.csv.csv\n",
      "65 out of 100\n",
      "../../rawdata/Growmybusiness/growmybusiness_hot_comment.csv\n",
      "66 out of 100\n",
      "../../rawdata/Growmybusiness/growmybusiness_rising_comment.csv\n",
      "67 out of 100\n",
      "../../rawdata/Growmybusiness/growmybusiness_controversial_secondcomment.csv\n",
      "68 out of 100\n",
      "../../rawdata/Growmybusiness/growmybusiness_hot_secondcomment.csv\n",
      "69 out of 100\n",
      "../../rawdata/Growmybusiness/growmybusiness_controversial_comment.csv\n",
      "70 out of 100\n",
      "../../rawdata/Growmybusiness/growmybusiness_top_secondcomment.csv\n",
      "71 out of 100\n",
      "../../rawdata/Startup_ideas/startup_ideas_top_comment.csv\n",
      "72 out of 100\n",
      "../../rawdata/Startup_ideas/startup_ideas_new_comment.csv\n",
      "73 out of 100\n",
      "../../rawdata/Startup_ideas/startup_ideas_new_secondcomment.csv\n",
      "74 out of 100\n",
      "../../rawdata/Startup_ideas/startup_ideas_controversial_secondcomment.csv\n",
      "75 out of 100\n",
      "../../rawdata/Startup_ideas/startup_ideas_rising_comment.csv\n",
      "76 out of 100\n",
      "../../rawdata/Startup_ideas/startup_ideas_top_secondcomment.csv\n",
      "77 out of 100\n",
      "../../rawdata/Startup_ideas/startup_ideas_controversial_comment.csv\n",
      "78 out of 100\n",
      "../../rawdata/Startup_ideas/startup_ideas_hot_secondcomment.csv\n",
      "79 out of 100\n",
      "../../rawdata/Startup_ideas/startup_ideas_hot_comment.csv\n",
      "80 out of 100\n",
      "../../rawdata/Startup_ideas/startup_ideas_rising_secondcomment.csv\n",
      "81 out of 100\n",
      "../../rawdata/Ladybusiness/ladybusiness_top_comment.csv\n",
      "82 out of 100\n",
      "../../rawdata/Ladybusiness/ladybusiness_new_comment.csv\n",
      "83 out of 100\n",
      "../../rawdata/Ladybusiness/ladybusiness_controversial_comment.csv\n",
      "84 out of 100\n",
      "../../rawdata/Ladybusiness/ladybusiness_controversial_secondcomment.csv\n",
      "85 out of 100\n",
      "../../rawdata/Ladybusiness/ladybusiness_rising_comment.csv\n",
      "86 out of 100\n",
      "../../rawdata/Ladybusiness/ladybusiness_new_secondcomment.csv\n",
      "87 out of 100\n",
      "../../rawdata/Ladybusiness/ladybusiness_hot_secondcomment.csv\n",
      "88 out of 100\n",
      "../../rawdata/Ladybusiness/ladybusiness_hot_comment.csv\n",
      "89 out of 100\n",
      "../../rawdata/Ladybusiness/ladybusiness_rising_secondcomment.csv\n",
      "90 out of 100\n",
      "../../rawdata/Ladybusiness/ladybusiness_top_secondcomment.csv\n",
      "91 out of 100\n",
      "../../rawdata/entrepreneur/entrepreneur_rising_secondcomments.csv\n",
      "92 out of 100\n",
      "../../rawdata/entrepreneur/entrepreneur_hot_comments.csv\n",
      "93 out of 100\n",
      "../../rawdata/entrepreneur/entrepreneur_top_comments.csv\n",
      "94 out of 100\n",
      "../../rawdata/entrepreneur/entrepreneur_controversial_secondcomments.csv\n",
      "95 out of 100\n",
      "../../rawdata/entrepreneur/entrepreneur_hot_secondcomments.csv\n",
      "96 out of 100\n",
      "../../rawdata/entrepreneur/entrepreneur_controversial_comments.csv\n"
     ]
    },
    {
     "name": "stderr",
     "output_type": "stream",
     "text": [
      "/Users/prady/anaconda3/lib/python3.7/site-packages/IPython/core/interactiveshell.py:2901: DtypeWarning: Columns (3,4,7,8,12,13,18,19,20,23,24,36,44,47,50,53,57,66,67) have mixed types. Specify dtype option on import or set low_memory=False.\n",
      "  if self.run_code(code, result):\n"
     ]
    },
    {
     "name": "stdout",
     "output_type": "stream",
     "text": [
      "97 out of 100\n",
      "../../rawdata/entrepreneur/entrepreneur_top_secondcomments.csv\n",
      "98 out of 100\n",
      "../../rawdata/entrepreneur/entrepreneur_new_comments.csv\n",
      "99 out of 100\n",
      "../../rawdata/entrepreneur/entrepreneur_new_secondcomments.csv\n",
      "100 out of 100\n",
      "../../rawdata/entrepreneur/entrepreneur_rising_comments.csv\n"
     ]
    }
   ],
   "source": [
    "reddit_dir = '../../rawdata/'\n",
    "reddit_list = [y for x in os.walk(reddit_dir) for y in glob(os.path.join(x[0], '*.csv')) if 'comment' in y]\n",
    "for j,r in enumerate(reddit_list):\n",
    "    print(str(j+1) + \" out of \" + str(len(reddit_list)))\n",
    "    print(r)\n",
    "    df = load_reddit(r)\n",
    "    df = sentiment_sentistrength(df)\n",
    "    df.to_csv(r, index=False, index_label=False)"
   ]
  },
  {
   "cell_type": "markdown",
   "metadata": {},
   "source": [
    "### Posts"
   ]
  },
  {
   "cell_type": "code",
   "execution_count": 65,
   "metadata": {},
   "outputs": [],
   "source": [
    "def load_reddit(path):\n",
    "    df = pd.read_csv(path)\n",
    "    df[\"full_text\"] = df[\"title\"].str.cat(df[\"text\"], sep=' ').fillna('')\n",
    "    return df\n",
    "def sentiment_sentistrength(df):\n",
    "    senti = PySentiStr()\n",
    "    senti.setSentiStrengthPath('/Users/prady/softwares/SentiStrengthCom.jar')\n",
    "    senti.setSentiStrengthLanguageFolderPath('/Users/prady/softwares/SentStrength_Data_Sept2011/')\n",
    "    df[\"full_text\"] = [t if t!=\"\" else \" \" for t in df['full_text']]\n",
    "    result = senti.getSentiment(df[\"full_text\"], score='trinary')\n",
    "    df[\"sentistrength_pos\"] = [r[0] for r in result]\n",
    "    df[\"sentistrength_neg\"] = [r[1] for r in result]\n",
    "    df[\"sentistrength_neutral\"] = [r[2] for r in result]\n",
    "    return df"
   ]
  },
  {
   "cell_type": "code",
   "execution_count": 66,
   "metadata": {
    "scrolled": true
   },
   "outputs": [
    {
     "name": "stdout",
     "output_type": "stream",
     "text": [
      "1 out of 50\n",
      "../../rawdata/Venturecapital/venturecapital_hot.csv\n",
      "2 out of 50\n",
      "../../rawdata/Venturecapital/venturecapital_top.csv\n",
      "3 out of 50\n",
      "../../rawdata/Venturecapital/venturecapital_new.csv\n",
      "4 out of 50\n",
      "../../rawdata/Venturecapital/venturecapital_rising.csv\n",
      "5 out of 50\n",
      "../../rawdata/Venturecapital/venturecapital_controversial.csv\n",
      "6 out of 50\n",
      "../../rawdata/Startups/startups_controversial.csv\n",
      "7 out of 50\n",
      "../../rawdata/Startups/startups_rising.csv\n",
      "8 out of 50\n",
      "../../rawdata/Startups/startups_hot.csv\n",
      "9 out of 50\n",
      "../../rawdata/Startups/startups_new.csv\n",
      "10 out of 50\n",
      "../../rawdata/Startups/startups_top.csv\n",
      "11 out of 50\n",
      "../../rawdata/Entrepreneurship/entrepreneurship_rising.csv\n",
      "12 out of 50\n",
      "../../rawdata/Entrepreneurship/entrepreneurship_hot.csv\n",
      "13 out of 50\n",
      "../../rawdata/Entrepreneurship/entrepreneurship_top.csv\n",
      "14 out of 50\n",
      "../../rawdata/Entrepreneurship/entrepreneurship_controversial.csv\n",
      "15 out of 50\n",
      "../../rawdata/Entrepreneurship/entrepreneurship_new.csv\n",
      "16 out of 50\n",
      "../../rawdata/EntrepreneurRideAlong/EntrepreneurRideAlong_controversial.csv\n",
      "17 out of 50\n",
      "../../rawdata/EntrepreneurRideAlong/EntrepreneurRideAlong_hot.csv\n",
      "18 out of 50\n",
      "../../rawdata/EntrepreneurRideAlong/EntrepreneurRideAlong_rising.csv\n",
      "19 out of 50\n",
      "../../rawdata/EntrepreneurRideAlong/EntrepreneurRideAlong_new.csv\n",
      "20 out of 50\n",
      "../../rawdata/EntrepreneurRideAlong/EntrepreneurRideAlong_top.csv\n",
      "21 out of 50\n",
      "../../rawdata/Business/business_controversial.csv\n",
      "22 out of 50\n",
      "../../rawdata/Business/business_rising.csv\n",
      "23 out of 50\n",
      "../../rawdata/Business/business_new.csv\n",
      "24 out of 50\n",
      "../../rawdata/Business/business_top.csv\n",
      "25 out of 50\n",
      "../../rawdata/Business/business_hot.csv\n",
      "26 out of 50\n",
      "../../rawdata/Smallbusiness/smallbusiness_rising.csv\n",
      "27 out of 50\n",
      "../../rawdata/Smallbusiness/smallbusiness_controversial.csv\n",
      "28 out of 50\n",
      "../../rawdata/Smallbusiness/smallbusiness_hot.csv\n",
      "29 out of 50\n",
      "../../rawdata/Smallbusiness/smallbusiness_new.csv\n",
      "30 out of 50\n",
      "../../rawdata/Smallbusiness/smallbusiness_top.csv\n",
      "31 out of 50\n",
      "../../rawdata/Growmybusiness/growmybusiness_hot.csv\n",
      "32 out of 50\n",
      "../../rawdata/Growmybusiness/growmybusiness_new.csv\n",
      "33 out of 50\n",
      "../../rawdata/Growmybusiness/growmybusiness_top.csv\n",
      "34 out of 50\n",
      "../../rawdata/Growmybusiness/growmybusiness_rising.csv\n",
      "35 out of 50\n",
      "../../rawdata/Growmybusiness/growmybusiness_controversial.csv\n",
      "36 out of 50\n",
      "../../rawdata/Startup_ideas/startup_ideas_rising.csv\n",
      "37 out of 50\n",
      "../../rawdata/Startup_ideas/startup_ideas_hot.csv\n",
      "38 out of 50\n",
      "../../rawdata/Startup_ideas/startup_ideas_controversial.csv\n",
      "39 out of 50\n",
      "../../rawdata/Startup_ideas/startup_ideas_top.csv\n",
      "40 out of 50\n",
      "../../rawdata/Startup_ideas/startup_ideas_new.csv\n",
      "41 out of 50\n",
      "../../rawdata/Ladybusiness/ladybusiness_new.csv\n",
      "42 out of 50\n",
      "../../rawdata/Ladybusiness/ladybusiness_top.csv\n",
      "43 out of 50\n",
      "../../rawdata/Ladybusiness/ladybusiness_rising.csv\n",
      "44 out of 50\n",
      "../../rawdata/Ladybusiness/ladybusiness_controversial.csv\n",
      "45 out of 50\n",
      "../../rawdata/Ladybusiness/ladybusiness_hot.csv\n",
      "46 out of 50\n",
      "../../rawdata/entrepreneur/entrepreneur_top.csv\n",
      "47 out of 50\n",
      "../../rawdata/entrepreneur/entrepreneur_controversial.csv\n",
      "48 out of 50\n",
      "../../rawdata/entrepreneur/entrepreneur_new.csv\n",
      "49 out of 50\n",
      "../../rawdata/entrepreneur/entrepreneur_rising.csv\n",
      "50 out of 50\n",
      "../../rawdata/entrepreneur/entrepreneur_hot.csv\n"
     ]
    }
   ],
   "source": [
    "reddit_dir = '../../rawdata/'\n",
    "reddit_list = [y for x in os.walk(reddit_dir) for y in glob(os.path.join(x[0], '*.csv')) if 'comment' not in y]\n",
    "for j,r in enumerate(reddit_list):\n",
    "    print(str(j+1) + \" out of \" + str(len(reddit_list)))\n",
    "    print(r)\n",
    "    df = load_reddit(r)\n",
    "    df = sentiment_sentistrength(df)\n",
    "    df.to_csv(r, index=False, index_label=False)"
   ]
  },
  {
   "cell_type": "code",
   "execution_count": 3,
   "metadata": {},
   "outputs": [],
   "source": [
    "pan = pd.read_excel('../../gender_prediction/data/pan17/pan17_df.xlsx')"
   ]
  },
  {
   "cell_type": "code",
   "execution_count": 6,
   "metadata": {},
   "outputs": [],
   "source": [
    "pan['full_text'] = pan['text'].astype(str)\n",
    "pan = sentiment_sentistrength(pan)"
   ]
  },
  {
   "cell_type": "code",
   "execution_count": 8,
   "metadata": {},
   "outputs": [],
   "source": [
    "del pan['full_text']"
   ]
  },
  {
   "cell_type": "code",
   "execution_count": 10,
   "metadata": {},
   "outputs": [],
   "source": [
    "pan.to_excel('../../gender_prediction/data/pan17/pan17_df.xlsx', index=False, index_label=False)"
   ]
  },
  {
   "cell_type": "code",
   "execution_count": null,
   "metadata": {},
   "outputs": [],
   "source": []
  }
 ],
 "metadata": {
  "kernelspec": {
   "display_name": "Python 3",
   "language": "python",
   "name": "python3"
  },
  "language_info": {
   "codemirror_mode": {
    "name": "ipython",
    "version": 3
   },
   "file_extension": ".py",
   "mimetype": "text/x-python",
   "name": "python",
   "nbconvert_exporter": "python",
   "pygments_lexer": "ipython3",
   "version": "3.7.1"
  }
 },
 "nbformat": 4,
 "nbformat_minor": 2
}
